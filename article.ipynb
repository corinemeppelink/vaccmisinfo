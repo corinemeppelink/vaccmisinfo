{
 "cells": [
  {
   "cell_type": "markdown",
   "metadata": {},
   "source": [
    "# Vaccinatie-/Misinformatie-Classifier\n",
    "## ...\n",
    "\n",
    "(hier komt wat uitleg waar dit over gaat en wat het is).\n"
   ]
  },
  {
   "cell_type": "code",
   "execution_count": 1,
   "metadata": {},
   "outputs": [],
   "source": [
    "from sklearn.naive_bayes import MultinomialNB\n",
    "from sklearn.linear_model import LogisticRegression\n",
    "from sklearn.feature_extraction.text import CountVectorizer, TfidfVectorizer\n",
    "from sklearn.pipeline import make_pipeline\n",
    "from sklearn import metrics\n",
    "from sklearn.model_selection import train_test_split\n",
    "from sklearn.externals import joblib\n",
    "import string\n",
    "from nltk.stem import WordNetLemmatizer\n",
    "from nltk.corpus import stopwords\n",
    "from math import log, sqrt\n",
    "import matplotlib.pyplot as plt\n",
    "import pandas as pd\n",
    "import pickle as pk\n",
    "import numpy as np\n",
    "import glob\n",
    "import os\n",
    "from collections import Counter\n",
    "from pandas import DataFrame, read_csv\n",
    "import matplotlib.pyplot as plt\n",
    "from stop_words import get_stop_words\n",
    "from string import punctuation\n",
    "import eli5\n",
    "\n",
    "STOPWORDS = get_stop_words('dutch')"
   ]
  },
  {
   "cell_type": "markdown",
   "metadata": {},
   "source": [
    "### 1. Define functions for preprocessing and data retrieval"
   ]
  },
  {
   "cell_type": "code",
   "execution_count": 2,
   "metadata": {},
   "outputs": [],
   "source": [
    "def preprocess(doc):\n",
    "    if type(doc) is str:\n",
    "        doc = doc.lower()\n",
    "        doc = doc.translate(str.maketrans({key: \" \" for key in string.punctuation}))\n",
    "        doc = \" \".join([w for w in doc.split() if w not in STOPWORDS])\n",
    "        return doc\n",
    "    else:\n",
    "        print('Received non-string input, returning empty string')\n",
    "        return ''"
   ]
  },
  {
   "cell_type": "code",
   "execution_count": 3,
   "metadata": {},
   "outputs": [],
   "source": [
    "def get_traintest(df, test_size=.30):\n",
    "    '''takes dataframe, selects relevant part, preprocesses text and returns train, test data lists with \n",
    "    (text, label) tuples'''\n",
    "    rows = df[['Platte tekst (zonder opmaak)','Misinfo Nee(1) Ja(0)']].dropna().to_records(index=False)\n",
    "    rowsclean = []\n",
    "    for e in rows:\n",
    "        try:\n",
    "            rowsclean.append((preprocess(e[0]), abs(int(e[1])-1)))  # we now code misinfo as 1 and legitimate as 0\n",
    "        except ValueError:\n",
    "            pass\n",
    "    if test_size < 1:\n",
    "        train, test = train_test_split(rowsclean, test_size=test_size)\n",
    "        return train, test\n",
    "    if test_size == 1:\n",
    "        return [], rowsclean\n"
   ]
  },
  {
   "cell_type": "markdown",
   "metadata": {},
   "source": [
    "### 2. Read data\n",
    "\n",
    "We have two datasets: one on childhood vaccination on which we train and test, and one on HPV that we use for testing out-of-sample prediction only"
   ]
  },
  {
   "cell_type": "code",
   "execution_count": 4,
   "metadata": {},
   "outputs": [],
   "source": [
    "hpv = pd.read_csv('hpv_dedup.csv')\n",
    "childhood = pd.read_csv('childhood_dedup.csv')"
   ]
  },
  {
   "cell_type": "code",
   "execution_count": 5,
   "metadata": {},
   "outputs": [
    {
     "name": "stdout",
     "output_type": "stream",
     "text": [
      "Obtained 309 train and 133 test tuples for childhood vaccination\n",
      "Obtained 0 train and 198 test tuples for HPV\n"
     ]
    }
   ],
   "source": [
    "childhood_train, childhood_test = get_traintest(childhood)\n",
    "print(\"Obtained {} train and {} test tuples for childhood vaccination\".format(len(childhood_train), len(childhood_test)))\n",
    "\n",
    "hpv_train, hpv_test = get_traintest(hpv, test_size=1)\n",
    "print(\"Obtained {} train and {} test tuples for HPV\".format(len(hpv_train), len(hpv_test)))"
   ]
  },
  {
   "cell_type": "markdown",
   "metadata": {},
   "source": [
    "### 3. Define Machine Learning-functions"
   ]
  },
  {
   "cell_type": "code",
   "execution_count": 6,
   "metadata": {},
   "outputs": [],
   "source": [
    "def performance(predictions, actual_scores):\n",
    "    accuracy=metrics.accuracy_score(actual_scores,predictions,normalize=True)\n",
    "    recall_misinfo=metrics.recall_score(actual_scores,predictions,pos_label=1)\n",
    "    recall_legitimate=metrics.recall_score(actual_scores,predictions,pos_label=0)\n",
    "    precision_misinfo=metrics.precision_score(actual_scores,predictions,pos_label=1)\n",
    "    precision_legitimate=metrics.precision_score(actual_scores,predictions,pos_label=0)\n",
    "    confusionmatrix=metrics.confusion_matrix(actual_scores,predictions)\n",
    "    print('Accuracy:',accuracy,\n",
    "          '\\nRecall (misinfo):',recall_misinfo,\n",
    "          '\\nPrecision (misinfo):',precision_misinfo,\n",
    "          '\\nRecall (legitimate):',recall_legitimate,\n",
    "          '\\nPrecision (legitimate) ',precision_legitimate,\n",
    "          '\\nConfusion Matrix:','\\n',confusionmatrix)\n"
   ]
  },
  {
   "cell_type": "code",
   "execution_count": 7,
   "metadata": {},
   "outputs": [],
   "source": [
    "def roc_curve(predicted_probabilities, actual_scores):\n",
    "    fpr, tpr, thresholds = metrics.roc_curve(actual_scores, predicted_probabilities[:,1],pos_label=1)\n",
    "    roc_auc = metrics.auc(fpr, tpr)\n",
    "    print(\"ROC AUC:\\n{}\".format(roc_auc))\n",
    "    #%%\n",
    "    plt.title('Receiver Operating Characteristic')\n",
    "    plt.plot(fpr, tpr, 'b', label = 'AUC = %0.2f' % roc_auc)\n",
    "    plt.legend(loc = 'lower right')\n",
    "    plt.plot([0, 1], [0, 1],'r--')\n",
    "    plt.xlim([0, 1])\n",
    "    plt.ylim([0, 1])\n",
    "    plt.ylabel('True Positive Rate')\n",
    "    plt.xlabel('False Positive Rate')\n",
    "    plt.show()\n"
   ]
  },
  {
   "cell_type": "code",
   "execution_count": 8,
   "metadata": {},
   "outputs": [],
   "source": [
    "def get_optimal_threshold(fpr,tpr,thresholds):\n",
    "    j_scores = tpr-fpr\n",
    "    j_ordered = sorted(zip(j_scores,thresholds))\n",
    "    return j_ordered[-1][1]    # return threshold score of the last (i.e., highest j_score)_ot"
   ]
  },
  {
   "cell_type": "markdown",
   "metadata": {},
   "source": [
    "### Naive Bayes (count)"
   ]
  },
  {
   "cell_type": "code",
   "execution_count": 9,
   "metadata": {},
   "outputs": [
    {
     "name": "stdout",
     "output_type": "stream",
     "text": [
      "Accuracy: 0.9097744360902256 \n",
      "Recall (misinfo): 0.8653846153846154 \n",
      "Precision (misinfo): 0.9 \n",
      "Recall (legitimate): 0.9382716049382716 \n",
      "Precision (legitimate)  0.9156626506024096 \n",
      "Confusion Matrix: \n",
      " [[76  5]\n",
      " [ 7 45]]\n",
      "ROC AUC:\n",
      "0.9560778727445394\n"
     ]
    },
    {
     "data": {
      "image/png": "[encoded data removed]",
      "text/plain": [
       "<Figure size 432x288 with 1 Axes>"
      ]
     },
     "metadata": {},
     "output_type": "display_data"
    }
   ],
   "source": [
    "vec = CountVectorizer()\n",
    "clf = MultinomialNB()\n",
    "pipe = make_pipeline(vec, clf)\n",
    "pipe.fit([r[0] for r in childhood_train], [r[1] for r in childhood_train])\n",
    "\n",
    "predictions = pipe.predict([r[0] for r in childhood_test])\n",
    "predicted_probabilities = pipe.predict_proba([r[0] for r in childhood_test])\n",
    "\n",
    "performance(predictions, [e[1] for e in childhood_test])\n",
    "roc_curve(predicted_probabilities, [e[1] for e in childhood_test])"
   ]
  },
  {
   "cell_type": "markdown",
   "metadata": {},
   "source": [
    "### Naive Bayes (tfidf)"
   ]
  },
  {
   "cell_type": "code",
   "execution_count": 10,
   "metadata": {},
   "outputs": [
    {
     "name": "stdout",
     "output_type": "stream",
     "text": [
      "Accuracy: 0.8345864661654135 \n",
      "Recall (misinfo): 0.5961538461538461 \n",
      "Precision (misinfo): 0.96875 \n",
      "Recall (legitimate): 0.9876543209876543 \n",
      "Precision (legitimate)  0.7920792079207921 \n",
      "Confusion Matrix: \n",
      " [[80  1]\n",
      " [21 31]]\n",
      "ROC AUC:\n",
      "0.9760208926875593\n"
     ]
    },
    {
     "data": {
      "image/png": "[encoded data removed]",
      "text/plain": [
       "<Figure size 432x288 with 1 Axes>"
      ]
     },
     "metadata": {},
     "output_type": "display_data"
    }
   ],
   "source": [
    "vec = TfidfVectorizer()\n",
    "clf = MultinomialNB()\n",
    "pipe = make_pipeline(vec, clf)\n",
    "pipe.fit([r[0] for r in childhood_train], [r[1] for r in childhood_train])\n",
    "\n",
    "predictions = pipe.predict([r[0] for r in childhood_test])\n",
    "predicted_probabilities = pipe.predict_proba([r[0] for r in childhood_test])\n",
    "\n",
    "performance(predictions, [e[1] for e in childhood_test])\n",
    "roc_curve(predicted_probabilities, [e[1] for e in childhood_test])"
   ]
  },
  {
   "cell_type": "markdown",
   "metadata": {},
   "source": [
    "### Logistic Regression (count)"
   ]
  },
  {
   "cell_type": "code",
   "execution_count": 11,
   "metadata": {},
   "outputs": [
    {
     "name": "stderr",
     "output_type": "stream",
     "text": [
      "/home/damian/.local/lib/python3.6/site-packages/sklearn/linear_model/logistic.py:433: FutureWarning: Default solver will be changed to 'lbfgs' in 0.22. Specify a solver to silence this warning.\n",
      "  FutureWarning)\n"
     ]
    },
    {
     "name": "stdout",
     "output_type": "stream",
     "text": [
      "Accuracy: 0.9172932330827067 \n",
      "Recall (misinfo): 0.8461538461538461 \n",
      "Precision (misinfo): 0.9361702127659575 \n",
      "Recall (legitimate): 0.9629629629629629 \n",
      "Precision (legitimate)  0.9069767441860465 \n",
      "Confusion Matrix: \n",
      " [[78  3]\n",
      " [ 8 44]]\n",
      "ROC AUC:\n",
      "0.975071225071225\n"
     ]
    },
    {
     "data": {
      "image/png": "[encoded data removed]",
      "text/plain": [
       "<Figure size 432x288 with 1 Axes>"
      ]
     },
     "metadata": {},
     "output_type": "display_data"
    }
   ],
   "source": [
    "vec = CountVectorizer()\n",
    "clf = LogisticRegression()\n",
    "pipe = make_pipeline(vec, clf)\n",
    "pipe.fit([r[0] for r in childhood_train], [r[1] for r in childhood_train])\n",
    "\n",
    "predictions = pipe.predict([r[0] for r in childhood_test])\n",
    "predicted_probabilities = pipe.predict_proba([r[0] for r in childhood_test])\n",
    "\n",
    "performance(predictions, [e[1] for e in childhood_test])\n",
    "roc_curve(predicted_probabilities, [e[1] for e in childhood_test])"
   ]
  },
  {
   "cell_type": "markdown",
   "metadata": {},
   "source": [
    "### Logistic Regression (tfidf)"
   ]
  },
  {
   "cell_type": "code",
   "execution_count": 12,
   "metadata": {},
   "outputs": [
    {
     "name": "stdout",
     "output_type": "stream",
     "text": [
      "Accuracy: 0.9022556390977443 \n",
      "Recall (misinfo): 0.7692307692307693 \n",
      "Precision (misinfo): 0.975609756097561 \n",
      "Recall (legitimate): 0.9876543209876543 \n",
      "Precision (legitimate)  0.8695652173913043 \n",
      "Confusion Matrix: \n",
      " [[80  1]\n",
      " [12 40]]\n",
      "ROC AUC:\n",
      "0.9757834757834758\n"
     ]
    },
    {
     "data": {
      "image/png": "[encoded data removed]",
      "text/plain": [
       "<Figure size 432x288 with 1 Axes>"
      ]
     },
     "metadata": {},
     "output_type": "display_data"
    }
   ],
   "source": [
    "vec = TfidfVectorizer()\n",
    "clf = LogisticRegression()\n",
    "pipe = make_pipeline(vec, clf)\n",
    "pipe.fit([r[0] for r in childhood_train], [r[1] for r in childhood_train])\n",
    "\n",
    "predictions = pipe.predict([r[0] for r in childhood_test])\n",
    "predicted_probabilities = pipe.predict_proba([r[0] for r in childhood_test])\n",
    "\n",
    "performance(predictions, [e[1] for e in childhood_test])\n",
    "roc_curve(predicted_probabilities, [e[1] for e in childhood_test])"
   ]
  },
  {
   "cell_type": "markdown",
   "metadata": {},
   "source": [
    "### Logistic Regression (tfidf) with optimized cutoff point\n",
    "(Spoiler: doesn't really change things)"
   ]
  },
  {
   "cell_type": "code",
   "execution_count": 13,
   "metadata": {},
   "outputs": [
    {
     "name": "stdout",
     "output_type": "stream",
     "text": [
      "ROC AUC: 0.9757834757834758\n",
      "0.43675057181065796 1.5476699963837433\n",
      "\n",
      "\n",
      "WITH THRESHOLD OF 1.5476699963837433\n",
      "Accuracy: 0.924812030075188 \n",
      "Recall (misinfo): 0.9230769230769231 \n",
      "Precision (misinfo): 0.8888888888888888 \n",
      "Recall (legitimate): 0.9259259259259259 \n",
      "Precision (legitimate)  0.9493670886075949 \n",
      "Confusion Matrix: \n",
      " [[75  6]\n",
      " [ 4 48]]\n"
     ]
    }
   ],
   "source": [
    "fpr,tpr, thresholds = metrics.roc_curve([r[1] for r in childhood_test], predicted_probabilities[:,1], pos_label=1)\n",
    "roc_auc = metrics.auc(fpr,tpr)\n",
    "print(\"ROC AUC: {}\".format(roc_auc))\n",
    "\n",
    "optimal_threshold = get_optimal_threshold(fpr,tpr,thresholds)\n",
    "print(optimal_threshold, np.exp(optimal_threshold))\n",
    "\n",
    "predictions_new = np.where(predicted_probabilities[:,1] > optimal_threshold, 1, 0)\n",
    "\n",
    "print('\\n\\nWITH THRESHOLD OF {}'.format(np.exp(optimal_threshold)))\n",
    "performance(predictions_new, [e[1] for e in childhood_test])"
   ]
  },
  {
   "cell_type": "markdown",
   "metadata": {},
   "source": [
    ".... this doesn't really change anything."
   ]
  },
  {
   "cell_type": "markdown",
   "metadata": {},
   "source": [
    "## Feature Weights\n",
    "\n",
    "Here, we use `eli5` to get a better idea of the features"
   ]
  },
  {
   "cell_type": "code",
   "execution_count": 14,
   "metadata": {},
   "outputs": [
    {
     "data": {
      "text/html": [
       "\n",
       "    <style>\n",
       "    table.eli5-weights tr:hover {\n",
       "        filter: brightness(85%);\n",
       "    }\n",
       "</style>\n",
       "\n",
       "\n",
       "\n",
       "    \n",
       "\n",
       "    \n",
       "\n",
       "    \n",
       "\n",
       "    \n",
       "\n",
       "    \n",
       "\n",
       "    \n",
       "\n",
       "\n",
       "    \n",
       "\n",
       "    \n",
       "\n",
       "    \n",
       "\n",
       "    \n",
       "        \n",
       "\n",
       "    \n",
       "\n",
       "        \n",
       "            \n",
       "                \n",
       "                \n",
       "    \n",
       "        <p style=\"margin-bottom: 0.5em; margin-top: 0em\">\n",
       "            <b>\n",
       "    \n",
       "        y=1\n",
       "    \n",
       "</b>\n",
       "\n",
       "top features\n",
       "        </p>\n",
       "    \n",
       "    <table class=\"eli5-weights\"\n",
       "           style=\"border-collapse: collapse; border: none; margin-top: 0em; table-layout: auto; margin-bottom: 2em;\">\n",
       "        <thead>\n",
       "        <tr style=\"border: none;\">\n",
       "            \n",
       "                <th style=\"padding: 0 1em 0 0.5em; text-align: right; border: none;\" title=\"Feature weights. Note that weights do not account for feature value scales, so if feature values have different scales, features with highest weights might not be the most important.\">\n",
       "                    Weight<sup>?</sup>\n",
       "                </th>\n",
       "            \n",
       "            <th style=\"padding: 0 0.5em 0 0.5em; text-align: left; border: none;\">Feature</th>\n",
       "            \n",
       "        </tr>\n",
       "        </thead>\n",
       "        <tbody>\n",
       "        \n",
       "            <tr style=\"background-color: hsl(120, 100.00%, 81.64%); border: none;\">\n",
       "    <td style=\"padding: 0 1em 0 0.5em; text-align: right; border: none;\">\n",
       "        +1.038\n",
       "    </td>\n",
       "    <td style=\"padding: 0 0.5em 0 0.5em; text-align: left; border: none;\">\n",
       "        we\n",
       "    </td>\n",
       "    \n",
       "</tr>\n",
       "        \n",
       "            <tr style=\"background-color: hsl(120, 100.00%, 84.10%); border: none;\">\n",
       "    <td style=\"padding: 0 1em 0 0.5em; text-align: right; border: none;\">\n",
       "        +0.846\n",
       "    </td>\n",
       "    <td style=\"padding: 0 0.5em 0 0.5em; text-align: left; border: none;\">\n",
       "        immuunsysteem\n",
       "    </td>\n",
       "    \n",
       "</tr>\n",
       "        \n",
       "            <tr style=\"background-color: hsl(120, 100.00%, 84.93%); border: none;\">\n",
       "    <td style=\"padding: 0 1em 0 0.5em; text-align: right; border: none;\">\n",
       "        +0.783\n",
       "    </td>\n",
       "    <td style=\"padding: 0 0.5em 0 0.5em; text-align: left; border: none;\">\n",
       "        vaccinatieschade\n",
       "    </td>\n",
       "    \n",
       "</tr>\n",
       "        \n",
       "            <tr style=\"background-color: hsl(120, 100.00%, 85.36%); border: none;\">\n",
       "    <td style=\"padding: 0 1em 0 0.5em; text-align: right; border: none;\">\n",
       "        +0.752\n",
       "    </td>\n",
       "    <td style=\"padding: 0 0.5em 0 0.5em; text-align: left; border: none;\">\n",
       "        dr\n",
       "    </td>\n",
       "    \n",
       "</tr>\n",
       "        \n",
       "            <tr style=\"background-color: hsl(120, 100.00%, 85.75%); border: none;\">\n",
       "    <td style=\"padding: 0 1em 0 0.5em; text-align: right; border: none;\">\n",
       "        +0.723\n",
       "    </td>\n",
       "    <td style=\"padding: 0 0.5em 0 0.5em; text-align: left; border: none;\">\n",
       "        www\n",
       "    </td>\n",
       "    \n",
       "</tr>\n",
       "        \n",
       "            <tr style=\"background-color: hsl(120, 100.00%, 86.74%); border: none;\">\n",
       "    <td style=\"padding: 0 1em 0 0.5em; text-align: right; border: none;\">\n",
       "        +0.652\n",
       "    </td>\n",
       "    <td style=\"padding: 0 0.5em 0 0.5em; text-align: left; border: none;\">\n",
       "        vaccins\n",
       "    </td>\n",
       "    \n",
       "</tr>\n",
       "        \n",
       "            <tr style=\"background-color: hsl(120, 100.00%, 86.86%); border: none;\">\n",
       "    <td style=\"padding: 0 1em 0 0.5em; text-align: right; border: none;\">\n",
       "        +0.644\n",
       "    </td>\n",
       "    <td style=\"padding: 0 0.5em 0 0.5em; text-align: left; border: none;\">\n",
       "        aluminium\n",
       "    </td>\n",
       "    \n",
       "</tr>\n",
       "        \n",
       "            <tr style=\"background-color: hsl(120, 100.00%, 87.45%); border: none;\">\n",
       "    <td style=\"padding: 0 1em 0 0.5em; text-align: right; border: none;\">\n",
       "        +0.603\n",
       "    </td>\n",
       "    <td style=\"padding: 0 0.5em 0 0.5em; text-align: left; border: none;\">\n",
       "        onderzoek\n",
       "    </td>\n",
       "    \n",
       "</tr>\n",
       "        \n",
       "            <tr style=\"background-color: hsl(120, 100.00%, 87.60%); border: none;\">\n",
       "    <td style=\"padding: 0 1em 0 0.5em; text-align: right; border: none;\">\n",
       "        +0.593\n",
       "    </td>\n",
       "    <td style=\"padding: 0 0.5em 0 0.5em; text-align: left; border: none;\">\n",
       "        bijsluiter\n",
       "    </td>\n",
       "    \n",
       "</tr>\n",
       "        \n",
       "            <tr style=\"background-color: hsl(120, 100.00%, 87.69%); border: none;\">\n",
       "    <td style=\"padding: 0 1em 0 0.5em; text-align: right; border: none;\">\n",
       "        +0.587\n",
       "    </td>\n",
       "    <td style=\"padding: 0 0.5em 0 0.5em; text-align: left; border: none;\">\n",
       "        weet\n",
       "    </td>\n",
       "    \n",
       "</tr>\n",
       "        \n",
       "            <tr style=\"background-color: hsl(120, 100.00%, 87.69%); border: none;\">\n",
       "    <td style=\"padding: 0 1em 0 0.5em; text-align: right; border: none;\">\n",
       "        +0.587\n",
       "    </td>\n",
       "    <td style=\"padding: 0 0.5em 0 0.5em; text-align: left; border: none;\">\n",
       "        onze\n",
       "    </td>\n",
       "    \n",
       "</tr>\n",
       "        \n",
       "            <tr style=\"background-color: hsl(120, 100.00%, 87.73%); border: none;\">\n",
       "    <td style=\"padding: 0 1em 0 0.5em; text-align: right; border: none;\">\n",
       "        +0.584\n",
       "    </td>\n",
       "    <td style=\"padding: 0 0.5em 0 0.5em; text-align: left; border: none;\">\n",
       "        http\n",
       "    </td>\n",
       "    \n",
       "</tr>\n",
       "        \n",
       "            <tr style=\"background-color: hsl(120, 100.00%, 88.10%); border: none;\">\n",
       "    <td style=\"padding: 0 1em 0 0.5em; text-align: right; border: none;\">\n",
       "        +0.559\n",
       "    </td>\n",
       "    <td style=\"padding: 0 0.5em 0 0.5em; text-align: left; border: none;\">\n",
       "        allergieën\n",
       "    </td>\n",
       "    \n",
       "</tr>\n",
       "        \n",
       "        \n",
       "            <tr style=\"background-color: hsl(120, 100.00%, 88.10%); border: none;\">\n",
       "                <td colspan=\"2\" style=\"padding: 0 0.5em 0 0.5em; text-align: center; border: none; white-space: nowrap;\">\n",
       "                    <i>&hellip; 13377 more positive &hellip;</i>\n",
       "                </td>\n",
       "            </tr>\n",
       "        \n",
       "\n",
       "        \n",
       "            <tr style=\"background-color: hsl(0, 100.00%, 87.28%); border: none;\">\n",
       "                <td colspan=\"2\" style=\"padding: 0 0.5em 0 0.5em; text-align: center; border: none; white-space: nowrap;\">\n",
       "                    <i>&hellip; 7830 more negative &hellip;</i>\n",
       "                </td>\n",
       "            </tr>\n",
       "        \n",
       "        \n",
       "            <tr style=\"background-color: hsl(0, 100.00%, 87.28%); border: none;\">\n",
       "    <td style=\"padding: 0 1em 0 0.5em; text-align: right; border: none;\">\n",
       "        -0.615\n",
       "    </td>\n",
       "    <td style=\"padding: 0 0.5em 0 0.5em; text-align: left; border: none;\">\n",
       "        infectieziekten\n",
       "    </td>\n",
       "    \n",
       "</tr>\n",
       "        \n",
       "            <tr style=\"background-color: hsl(0, 100.00%, 86.80%); border: none;\">\n",
       "    <td style=\"padding: 0 1em 0 0.5em; text-align: right; border: none;\">\n",
       "        -0.648\n",
       "    </td>\n",
       "    <td style=\"padding: 0 0.5em 0 0.5em; text-align: left; border: none;\">\n",
       "        ingeënt\n",
       "    </td>\n",
       "    \n",
       "</tr>\n",
       "        \n",
       "            <tr style=\"background-color: hsl(0, 100.00%, 86.48%); border: none;\">\n",
       "    <td style=\"padding: 0 1em 0 0.5em; text-align: right; border: none;\">\n",
       "        -0.670\n",
       "    </td>\n",
       "    <td style=\"padding: 0 0.5em 0 0.5em; text-align: left; border: none;\">\n",
       "        rijksvaccinatieprogramma\n",
       "    </td>\n",
       "    \n",
       "</tr>\n",
       "        \n",
       "            <tr style=\"background-color: hsl(0, 100.00%, 85.23%); border: none;\">\n",
       "    <td style=\"padding: 0 1em 0 0.5em; text-align: right; border: none;\">\n",
       "        -0.761\n",
       "    </td>\n",
       "    <td style=\"padding: 0 0.5em 0 0.5em; text-align: left; border: none;\">\n",
       "        inenten\n",
       "    </td>\n",
       "    \n",
       "</tr>\n",
       "        \n",
       "            <tr style=\"background-color: hsl(0, 100.00%, 82.43%); border: none;\">\n",
       "    <td style=\"padding: 0 1em 0 0.5em; text-align: right; border: none;\">\n",
       "        -0.975\n",
       "    </td>\n",
       "    <td style=\"padding: 0 0.5em 0 0.5em; text-align: left; border: none;\">\n",
       "        vaccinatiegraad\n",
       "    </td>\n",
       "    \n",
       "</tr>\n",
       "        \n",
       "            <tr style=\"background-color: hsl(0, 100.00%, 82.27%); border: none;\">\n",
       "    <td style=\"padding: 0 1em 0 0.5em; text-align: right; border: none;\">\n",
       "        -0.988\n",
       "    </td>\n",
       "    <td style=\"padding: 0 0.5em 0 0.5em; text-align: left; border: none;\">\n",
       "        kind\n",
       "    </td>\n",
       "    \n",
       "</tr>\n",
       "        \n",
       "            <tr style=\"background-color: hsl(0, 100.00%, 80.00%); border: none;\">\n",
       "    <td style=\"padding: 0 1em 0 0.5em; text-align: right; border: none;\">\n",
       "        -1.173\n",
       "    </td>\n",
       "    <td style=\"padding: 0 0.5em 0 0.5em; text-align: left; border: none;\">\n",
       "        mazelen\n",
       "    </td>\n",
       "    \n",
       "</tr>\n",
       "        \n",
       "\n",
       "        </tbody>\n",
       "    </table>\n",
       "\n",
       "            \n",
       "        \n",
       "\n",
       "        \n",
       "\n",
       "\n",
       "\n",
       "    \n",
       "\n",
       "    \n",
       "\n",
       "    \n",
       "\n",
       "    \n",
       "\n",
       "\n",
       "    \n",
       "\n",
       "    \n",
       "\n",
       "    \n",
       "\n",
       "    \n",
       "\n",
       "    \n",
       "\n",
       "    \n",
       "\n",
       "\n",
       "    \n",
       "\n",
       "    \n",
       "\n",
       "    \n",
       "\n",
       "    \n",
       "\n",
       "    \n",
       "\n",
       "    \n",
       "\n",
       "\n",
       "\n"
      ],
      "text/plain": [
       "<IPython.core.display.HTML object>"
      ]
     },
     "execution_count": 14,
     "metadata": {},
     "output_type": "execute_result"
    }
   ],
   "source": [
    "eli5.show_weights(pipe,top=20)"
   ]
  },
  {
   "cell_type": "code",
   "execution_count": 15,
   "metadata": {},
   "outputs": [
    {
     "data": {
      "text/html": [
       "\n",
       "    <style>\n",
       "    table.eli5-weights tr:hover {\n",
       "        filter: brightness(85%);\n",
       "    }\n",
       "</style>\n",
       "\n",
       "\n",
       "\n",
       "    \n",
       "\n",
       "    \n",
       "\n",
       "    \n",
       "\n",
       "    \n",
       "\n",
       "    \n",
       "\n",
       "    \n",
       "\n",
       "\n",
       "    \n",
       "\n",
       "    \n",
       "\n",
       "    \n",
       "\n",
       "    \n",
       "        \n",
       "\n",
       "    \n",
       "\n",
       "        \n",
       "\n",
       "        \n",
       "    \n",
       "        \n",
       "        \n",
       "    \n",
       "        <p style=\"margin-bottom: 0.5em; margin-top: 0em\">\n",
       "            <b>\n",
       "    \n",
       "        y=0\n",
       "    \n",
       "</b>\n",
       "\n",
       "    \n",
       "    (probability <b>0.673</b>, score <b>-0.723</b>)\n",
       "\n",
       "top features\n",
       "        </p>\n",
       "    \n",
       "    <table class=\"eli5-weights\"\n",
       "           style=\"border-collapse: collapse; border: none; margin-top: 0em; table-layout: auto; margin-bottom: 2em;\">\n",
       "        <thead>\n",
       "        <tr style=\"border: none;\">\n",
       "            \n",
       "                <th style=\"padding: 0 1em 0 0.5em; text-align: right; border: none;\" title=\"Feature contribution already accounts for the feature value (for linear models, contribution = weight * feature value), and the sum of feature contributions is equal to the score or, for some classifiers, to the probability. Feature values are shown if &quot;show_feature_values&quot; is True.\">\n",
       "                    Contribution<sup>?</sup>\n",
       "                </th>\n",
       "            \n",
       "            <th style=\"padding: 0 0.5em 0 0.5em; text-align: left; border: none;\">Feature</th>\n",
       "            \n",
       "        </tr>\n",
       "        </thead>\n",
       "        <tbody>\n",
       "        \n",
       "            <tr style=\"background-color: hsl(120, 100.00%, 80.00%); border: none;\">\n",
       "    <td style=\"padding: 0 1em 0 0.5em; text-align: right; border: none;\">\n",
       "        +0.535\n",
       "    </td>\n",
       "    <td style=\"padding: 0 0.5em 0 0.5em; text-align: left; border: none;\">\n",
       "        &lt;BIAS&gt;\n",
       "    </td>\n",
       "    \n",
       "</tr>\n",
       "        \n",
       "            <tr style=\"background-color: hsl(120, 100.00%, 90.36%); border: none;\">\n",
       "    <td style=\"padding: 0 1em 0 0.5em; text-align: right; border: none;\">\n",
       "        +0.189\n",
       "    </td>\n",
       "    <td style=\"padding: 0 0.5em 0 0.5em; text-align: left; border: none;\">\n",
       "        Highlighted in text (sum)\n",
       "    </td>\n",
       "    \n",
       "</tr>\n",
       "        \n",
       "        \n",
       "\n",
       "        \n",
       "        \n",
       "\n",
       "        </tbody>\n",
       "    </table>\n",
       "\n",
       "    \n",
       "\n",
       "\n",
       "\n",
       "    <p style=\"margin-bottom: 2.5em; margin-top:-0.5em;\">\n",
       "        <span style=\"background-color: hsl(0, 100.00%, 83.69%); opacity: 0.86\" title=\"-0.003\">hieronder</span><span style=\"opacity: 0.80\"> </span><span style=\"background-color: hsl(120, 100.00%, 97.16%); opacity: 0.80\" title=\"0.000\">vind</span><span style=\"opacity: 0.80\"> </span><span style=\"background-color: hsl(0, 100.00%, 97.67%); opacity: 0.80\" title=\"-0.000\">selectie</span><span style=\"opacity: 0.80\"> </span><span style=\"background-color: hsl(120, 100.00%, 90.02%); opacity: 0.83\" title=\"0.002\">vragen</span><span style=\"opacity: 0.80\"> </span><span style=\"background-color: hsl(0, 100.00%, 97.55%); opacity: 0.80\" title=\"-0.000\">antwoorden</span><span style=\"opacity: 0.80\"> </span><span style=\"background-color: hsl(120, 100.00%, 88.19%); opacity: 0.84\" title=\"0.002\">vaccinatie</span><span style=\"opacity: 0.80\"> </span><span style=\"background-color: hsl(120, 100.00%, 88.49%); opacity: 0.83\" title=\"0.002\">baarmoederhalskanker</span><span style=\"opacity: 0.80\"> </span><span style=\"background-color: hsl(120, 100.00%, 88.21%); opacity: 0.83\" title=\"0.002\">hpv</span><span style=\"opacity: 0.80\"> </span><span style=\"background-color: hsl(120, 100.00%, 86.52%); opacity: 0.84\" title=\"0.002\">humaan</span><span style=\"opacity: 0.80\"> </span><span style=\"background-color: hsl(120, 100.00%, 83.15%); opacity: 0.86\" title=\"0.003\">papillomavirus</span><span style=\"opacity: 0.80\"> </span><span style=\"background-color: hsl(120, 100.00%, 88.21%); opacity: 0.83\" title=\"0.002\">hpv</span><span style=\"opacity: 0.80\"> </span><span style=\"background-color: hsl(0, 100.00%, 90.56%); opacity: 0.83\" title=\"-0.001\">staat</span><span style=\"opacity: 0.80\"> </span><span style=\"background-color: hsl(120, 100.00%, 86.52%); opacity: 0.84\" title=\"0.002\">humaan</span><span style=\"opacity: 0.80\"> </span><span style=\"background-color: hsl(120, 100.00%, 83.15%); opacity: 0.86\" title=\"0.003\">papillomavirus</span><span style=\"opacity: 0.80\"> </span><span style=\"background-color: hsl(0, 100.00%, 87.82%); opacity: 0.84\" title=\"-0.002\">ruim</span><span style=\"opacity: 0.80\"> </span><span style=\"background-color: hsl(120, 100.00%, 85.07%); opacity: 0.85\" title=\"0.003\">100</span><span style=\"opacity: 0.80\"> </span><span style=\"background-color: hsl(0, 100.00%, 91.78%); opacity: 0.82\" title=\"-0.001\">verschillende</span><span style=\"opacity: 0.80\"> </span><span style=\"background-color: hsl(0, 100.00%, 90.04%); opacity: 0.83\" title=\"-0.002\">varianten</span><span style=\"opacity: 0.80\"> </span><span style=\"background-color: hsl(120, 100.00%, 84.32%); opacity: 0.85\" title=\"0.003\">virus</span><span style=\"opacity: 0.80\"> </span><span style=\"background-color: hsl(120, 100.00%, 91.62%); opacity: 0.82\" title=\"0.001\">aantal</span><span style=\"opacity: 0.80\"> </span><span style=\"background-color: hsl(0, 100.00%, 90.04%); opacity: 0.83\" title=\"-0.002\">varianten</span><span style=\"opacity: 0.80\"> </span><span style=\"background-color: hsl(120, 100.00%, 88.49%); opacity: 0.83\" title=\"0.002\">baarmoederhalskanker</span><span style=\"opacity: 0.80\"> </span><span style=\"background-color: hsl(120, 100.00%, 99.18%); opacity: 0.80\" title=\"0.000\">veroorzaken</span><span style=\"opacity: 0.80\"> </span><span style=\"background-color: hsl(0, 100.00%, 90.04%); opacity: 0.83\" title=\"-0.002\">varianten</span><span style=\"opacity: 0.80\"> hpv16 hpv18 </span><span style=\"background-color: hsl(120, 100.00%, 99.18%); opacity: 0.80\" title=\"0.000\">veroorzaken</span><span style=\"opacity: 0.80\"> </span><span style=\"background-color: hsl(120, 100.00%, 96.95%); opacity: 0.81\" title=\"0.000\">samen</span><span style=\"opacity: 0.80\"> </span><span style=\"background-color: hsl(120, 100.00%, 92.50%); opacity: 0.82\" title=\"0.001\">ongeveer</span><span style=\"opacity: 0.80\"> </span><span style=\"background-color: hsl(0, 100.00%, 96.13%); opacity: 0.81\" title=\"-0.000\">70</span><span style=\"opacity: 0.80\"> </span><span style=\"background-color: hsl(120, 100.00%, 92.03%); opacity: 0.82\" title=\"0.001\">alle</span><span style=\"opacity: 0.80\"> </span><span style=\"background-color: hsl(120, 100.00%, 95.17%); opacity: 0.81\" title=\"0.001\">gevallen</span><span style=\"opacity: 0.80\"> </span><span style=\"background-color: hsl(120, 100.00%, 88.49%); opacity: 0.83\" title=\"0.002\">baarmoederhalskanker</span><span style=\"opacity: 0.80\"> </span><span style=\"background-color: hsl(120, 100.00%, 88.21%); opacity: 0.83\" title=\"0.002\">hpv</span><span style=\"opacity: 0.80\"> </span><span style=\"background-color: hsl(120, 100.00%, 84.32%); opacity: 0.85\" title=\"0.003\">virus</span><span style=\"opacity: 0.80\"> </span><span style=\"background-color: hsl(0, 100.00%, 90.60%); opacity: 0.83\" title=\"-0.001\">erg</span><span style=\"opacity: 0.80\"> </span><span style=\"background-color: hsl(120, 100.00%, 88.77%); opacity: 0.83\" title=\"0.002\">besmettelijk</span><span style=\"opacity: 0.80\"> </span><span style=\"background-color: hsl(120, 100.00%, 92.50%); opacity: 0.82\" title=\"0.001\">ongeveer</span><span style=\"opacity: 0.80\"> 8 </span><span style=\"background-color: hsl(0, 100.00%, 82.62%); opacity: 0.86\" title=\"-0.003\">10</span><span style=\"opacity: 0.80\"> </span><span style=\"background-color: hsl(0, 100.00%, 93.50%); opacity: 0.81\" title=\"-0.001\">mannen</span><span style=\"opacity: 0.80\"> </span><span style=\"background-color: hsl(0, 100.00%, 92.31%); opacity: 0.82\" title=\"-0.001\">vrouwen</span><span style=\"opacity: 0.80\"> </span><span style=\"background-color: hsl(0, 100.00%, 89.75%); opacity: 0.83\" title=\"-0.002\">raakt</span><span style=\"opacity: 0.80\"> </span><span style=\"background-color: hsl(120, 100.00%, 97.23%); opacity: 0.80\" title=\"0.000\">ooit</span><span style=\"opacity: 0.80\"> </span><span style=\"background-color: hsl(120, 100.00%, 81.13%); opacity: 0.87\" title=\"0.004\">besmet</span><span style=\"opacity: 0.80\"> </span><span style=\"background-color: hsl(120, 100.00%, 88.21%); opacity: 0.83\" title=\"0.002\">hpv</span><span style=\"opacity: 0.80\"> </span><span style=\"background-color: hsl(120, 100.00%, 84.32%); opacity: 0.85\" title=\"0.003\">virus</span><span style=\"opacity: 0.80\"> </span><span style=\"background-color: hsl(120, 100.00%, 84.32%); opacity: 0.85\" title=\"0.003\">virus</span><span style=\"opacity: 0.80\"> </span><span style=\"background-color: hsl(0, 100.00%, 98.74%); opacity: 0.80\" title=\"-0.000\">overgedragen</span><span style=\"opacity: 0.80\"> </span><span style=\"background-color: hsl(0, 100.00%, 88.52%); opacity: 0.83\" title=\"-0.002\">seksueel</span><span style=\"opacity: 0.80\"> </span><span style=\"background-color: hsl(120, 100.00%, 94.35%); opacity: 0.81\" title=\"0.001\">contact</span><span style=\"opacity: 0.80\"> </span><span style=\"background-color: hsl(120, 100.00%, 87.83%); opacity: 0.84\" title=\"0.002\">hoeft</span><span style=\"opacity: 0.80\"> </span><span style=\"background-color: hsl(0, 100.00%, 93.54%); opacity: 0.81\" title=\"-0.001\">per</span><span style=\"opacity: 0.80\"> </span><span style=\"background-color: hsl(0, 100.00%, 90.75%); opacity: 0.82\" title=\"-0.001\">se</span><span style=\"opacity: 0.80\"> vrijen </span><span style=\"background-color: hsl(0, 100.00%, 98.74%); opacity: 0.80\" title=\"-0.000\">overgedragen</span><span style=\"opacity: 0.80\"> </span><span style=\"background-color: hsl(0, 100.00%, 89.35%); opacity: 0.83\" title=\"-0.002\">via</span><span style=\"opacity: 0.80\"> </span><span style=\"background-color: hsl(0, 100.00%, 85.27%); opacity: 0.85\" title=\"-0.003\">huid</span><span style=\"opacity: 0.80\"> </span><span style=\"background-color: hsl(120, 100.00%, 97.92%); opacity: 0.80\" title=\"0.000\">handen</span><span style=\"opacity: 0.80\"> vingers </span><span style=\"background-color: hsl(120, 100.00%, 92.68%); opacity: 0.82\" title=\"0.001\">gebeurt</span><span style=\"opacity: 0.80\"> </span><span style=\"background-color: hsl(120, 100.00%, 81.13%); opacity: 0.87\" title=\"0.004\">besmet</span><span style=\"opacity: 0.80\"> </span><span style=\"background-color: hsl(0, 100.00%, 90.77%); opacity: 0.82\" title=\"-0.001\">bent</span><span style=\"opacity: 0.80\"> </span><span style=\"background-color: hsl(120, 100.00%, 88.21%); opacity: 0.83\" title=\"0.002\">hpv</span><span style=\"opacity: 0.80\"> </span><span style=\"background-color: hsl(120, 100.00%, 88.21%); opacity: 0.83\" title=\"0.002\">hpv</span><span style=\"opacity: 0.80\"> </span><span style=\"background-color: hsl(120, 100.00%, 84.32%); opacity: 0.85\" title=\"0.003\">virus</span><span style=\"opacity: 0.80\"> </span><span style=\"background-color: hsl(0, 100.00%, 79.35%); opacity: 0.88\" title=\"-0.004\">cellen</span><span style=\"opacity: 0.80\"> </span><span style=\"background-color: hsl(0, 100.00%, 95.16%); opacity: 0.81\" title=\"-0.001\">baarmoederhals</span><span style=\"opacity: 0.80\"> </span><span style=\"background-color: hsl(120, 100.00%, 86.82%); opacity: 0.84\" title=\"0.002\">besmetten</span><span style=\"opacity: 0.80\"> </span><span style=\"background-color: hsl(120, 100.00%, 90.10%); opacity: 0.83\" title=\"0.001\">meestal</span><span style=\"opacity: 0.80\"> </span><span style=\"background-color: hsl(0, 100.00%, 76.84%); opacity: 0.89\" title=\"-0.005\">klachten</span><span style=\"opacity: 0.80\"> </span><span style=\"background-color: hsl(120, 100.00%, 81.13%); opacity: 0.87\" title=\"0.004\">besmet</span><span style=\"opacity: 0.80\"> </span><span style=\"background-color: hsl(0, 100.00%, 90.77%); opacity: 0.82\" title=\"-0.001\">bent</span><span style=\"opacity: 0.80\"> </span><span style=\"background-color: hsl(120, 100.00%, 87.40%); opacity: 0.84\" title=\"0.002\">bijna</span><span style=\"opacity: 0.80\"> </span><span style=\"background-color: hsl(0, 100.00%, 74.49%); opacity: 0.91\" title=\"-0.006\">lichaam</span><span style=\"opacity: 0.80\"> </span><span style=\"background-color: hsl(120, 100.00%, 88.21%); opacity: 0.83\" title=\"0.002\">hpv</span><span style=\"opacity: 0.80\"> </span><span style=\"background-color: hsl(120, 100.00%, 87.74%); opacity: 0.84\" title=\"0.002\">infectie</span><span style=\"opacity: 0.80\"> </span><span style=\"background-color: hsl(0, 100.00%, 97.07%); opacity: 0.80\" title=\"-0.000\">opruimen</span><span style=\"opacity: 0.80\"> </span><span style=\"background-color: hsl(120, 100.00%, 95.00%); opacity: 0.81\" title=\"0.001\">kun</span><span style=\"opacity: 0.80\"> </span><span style=\"background-color: hsl(120, 100.00%, 88.49%); opacity: 0.83\" title=\"0.002\">baarmoederhalskanker</span><span style=\"opacity: 0.80\"> </span><span style=\"background-color: hsl(120, 100.00%, 98.28%); opacity: 0.80\" title=\"0.000\">krijgen</span><span style=\"opacity: 0.80\"> </span><span style=\"background-color: hsl(120, 100.00%, 88.21%); opacity: 0.83\" title=\"0.002\">hpv</span><span style=\"opacity: 0.80\"> </span><span style=\"background-color: hsl(120, 100.00%, 86.63%); opacity: 0.84\" title=\"0.002\">soms</span><span style=\"opacity: 0.80\"> ruimt </span><span style=\"background-color: hsl(0, 100.00%, 74.49%); opacity: 0.91\" title=\"-0.006\">lichaam</span><span style=\"opacity: 0.80\"> </span><span style=\"background-color: hsl(120, 100.00%, 88.21%); opacity: 0.83\" title=\"0.002\">hpv</span><span style=\"opacity: 0.80\"> </span><span style=\"background-color: hsl(120, 100.00%, 84.32%); opacity: 0.85\" title=\"0.003\">virus</span><span style=\"opacity: 0.80\"> </span><span style=\"background-color: hsl(0, 100.00%, 86.77%); opacity: 0.84\" title=\"-0.002\">blijft</span><span style=\"opacity: 0.80\"> </span><span style=\"background-color: hsl(120, 100.00%, 84.32%); opacity: 0.85\" title=\"0.003\">virus</span><span style=\"opacity: 0.80\"> </span><span style=\"background-color: hsl(120, 100.00%, 86.79%); opacity: 0.84\" title=\"0.002\">langer</span><span style=\"opacity: 0.80\"> </span><span style=\"background-color: hsl(0, 100.00%, 79.35%); opacity: 0.88\" title=\"-0.004\">cellen</span><span style=\"opacity: 0.80\"> </span><span style=\"background-color: hsl(0, 100.00%, 95.16%); opacity: 0.81\" title=\"-0.001\">baarmoederhals</span><span style=\"opacity: 0.80\"> </span><span style=\"background-color: hsl(0, 100.00%, 90.19%); opacity: 0.83\" title=\"-0.001\">aanwezig</span><span style=\"opacity: 0.80\"> </span><span style=\"background-color: hsl(120, 100.00%, 84.32%); opacity: 0.85\" title=\"0.003\">virus</span><span style=\"opacity: 0.80\"> </span><span style=\"background-color: hsl(120, 100.00%, 93.97%); opacity: 0.81\" title=\"0.001\">zorgen</span><span style=\"opacity: 0.80\"> </span><span style=\"background-color: hsl(0, 100.00%, 87.76%); opacity: 0.84\" title=\"-0.002\">veranderingen</span><span style=\"opacity: 0.80\"> </span><span style=\"background-color: hsl(0, 100.00%, 79.35%); opacity: 0.88\" title=\"-0.004\">cellen</span><span style=\"opacity: 0.80\"> </span><span style=\"background-color: hsl(0, 100.00%, 91.99%); opacity: 0.82\" title=\"-0.001\">afwijkende</span><span style=\"opacity: 0.80\"> </span><span style=\"background-color: hsl(0, 100.00%, 79.35%); opacity: 0.88\" title=\"-0.004\">cellen</span><span style=\"opacity: 0.80\"> </span><span style=\"background-color: hsl(0, 100.00%, 92.99%); opacity: 0.82\" title=\"-0.001\">verdwijnen</span><span style=\"opacity: 0.80\"> </span><span style=\"background-color: hsl(0, 100.00%, 80.64%); opacity: 0.87\" title=\"-0.004\">vaak</span><span style=\"opacity: 0.80\"> </span><span style=\"background-color: hsl(120, 100.00%, 89.94%); opacity: 0.83\" title=\"0.002\">vanzelf</span><span style=\"opacity: 0.80\"> </span><span style=\"background-color: hsl(120, 100.00%, 86.63%); opacity: 0.84\" title=\"0.002\">soms</span><span style=\"opacity: 0.80\"> </span><span style=\"background-color: hsl(0, 100.00%, 78.27%); opacity: 0.88\" title=\"-0.005\">ontwikkelen</span><span style=\"opacity: 0.80\"> </span><span style=\"background-color: hsl(0, 100.00%, 95.65%); opacity: 0.81\" title=\"-0.000\">kankercellen</span><span style=\"opacity: 0.80\"> </span><span style=\"background-color: hsl(120, 100.00%, 88.01%); opacity: 0.84\" title=\"0.002\">tussen</span><span style=\"opacity: 0.80\"> </span><span style=\"background-color: hsl(0, 100.00%, 92.10%); opacity: 0.82\" title=\"-0.001\">moment</span><span style=\"opacity: 0.80\"> </span><span style=\"background-color: hsl(120, 100.00%, 81.59%); opacity: 0.87\" title=\"0.004\">besmetting</span><span style=\"opacity: 0.80\"> </span><span style=\"background-color: hsl(0, 100.00%, 92.16%); opacity: 0.82\" title=\"-0.001\">ontstaan</span><span style=\"opacity: 0.80\"> </span><span style=\"background-color: hsl(120, 100.00%, 88.49%); opacity: 0.83\" title=\"0.002\">baarmoederhalskanker</span><span style=\"opacity: 0.80\"> </span><span style=\"background-color: hsl(0, 100.00%, 95.75%); opacity: 0.81\" title=\"-0.000\">zit</span><span style=\"opacity: 0.80\"> </span><span style=\"background-color: hsl(120, 100.00%, 90.10%); opacity: 0.83\" title=\"0.001\">meestal</span><span style=\"opacity: 0.80\"> </span><span style=\"background-color: hsl(0, 100.00%, 97.87%); opacity: 0.80\" title=\"-0.000\">15</span><span style=\"opacity: 0.80\"> </span><span style=\"background-color: hsl(0, 100.00%, 98.89%); opacity: 0.80\" title=\"-0.000\">jaar</span><span style=\"opacity: 0.80\"> </span><span style=\"background-color: hsl(120, 100.00%, 95.00%); opacity: 0.81\" title=\"0.001\">kun</span><span style=\"opacity: 0.80\"> </span><span style=\"background-color: hsl(120, 100.00%, 88.49%); opacity: 0.83\" title=\"0.002\">baarmoederhalskanker</span><span style=\"opacity: 0.80\"> </span><span style=\"background-color: hsl(120, 100.00%, 98.28%); opacity: 0.80\" title=\"0.000\">krijgen</span><span style=\"opacity: 0.80\"> </span><span style=\"background-color: hsl(120, 100.00%, 88.21%); opacity: 0.83\" title=\"0.002\">hpv</span><span style=\"opacity: 0.80\"> </span><span style=\"background-color: hsl(120, 100.00%, 87.74%); opacity: 0.84\" title=\"0.002\">infectie</span><span style=\"opacity: 0.80\"> </span><span style=\"background-color: hsl(120, 100.00%, 87.11%); opacity: 0.84\" title=\"0.002\">nee</span><span style=\"opacity: 0.80\"> </span><span style=\"background-color: hsl(120, 100.00%, 88.49%); opacity: 0.83\" title=\"0.002\">baarmoederhalskanker</span><span style=\"opacity: 0.80\"> </span><span style=\"background-color: hsl(0, 100.00%, 92.98%); opacity: 0.82\" title=\"-0.001\">alleen</span><span style=\"opacity: 0.80\"> </span><span style=\"background-color: hsl(0, 100.00%, 95.32%); opacity: 0.81\" title=\"-0.001\">veroorzaakt</span><span style=\"opacity: 0.80\"> </span><span style=\"background-color: hsl(120, 100.00%, 88.21%); opacity: 0.83\" title=\"0.002\">hpv</span><span style=\"opacity: 0.80\"> </span><span style=\"background-color: hsl(120, 100.00%, 87.74%); opacity: 0.84\" title=\"0.002\">infectie</span><span style=\"opacity: 0.80\"> </span><span style=\"background-color: hsl(0, 100.00%, 92.17%); opacity: 0.82\" title=\"-0.001\">roken</span><span style=\"opacity: 0.80\"> </span><span style=\"background-color: hsl(120, 100.00%, 84.32%); opacity: 0.85\" title=\"0.003\">virus</span><span style=\"opacity: 0.80\"> </span><span style=\"background-color: hsl(0, 100.00%, 95.91%); opacity: 0.81\" title=\"-0.000\">eerder</span><span style=\"opacity: 0.80\"> </span><span style=\"background-color: hsl(120, 100.00%, 88.49%); opacity: 0.83\" title=\"0.002\">baarmoederhalskanker</span><span style=\"opacity: 0.80\"> </span><span style=\"background-color: hsl(120, 100.00%, 99.18%); opacity: 0.80\" title=\"0.000\">veroorzaken</span><span style=\"opacity: 0.80\"> </span><span style=\"background-color: hsl(120, 100.00%, 97.54%); opacity: 0.80\" title=\"0.000\">groot</span><span style=\"opacity: 0.80\"> </span><span style=\"background-color: hsl(120, 100.00%, 91.29%); opacity: 0.82\" title=\"0.001\">kans</span><span style=\"opacity: 0.80\"> </span><span style=\"background-color: hsl(120, 100.00%, 88.49%); opacity: 0.83\" title=\"0.002\">baarmoederhalskanker</span><span style=\"opacity: 0.80\"> </span><span style=\"background-color: hsl(120, 100.00%, 93.47%); opacity: 0.82\" title=\"0.001\">krijg</span><span style=\"opacity: 0.80\"> </span><span style=\"background-color: hsl(120, 100.00%, 91.29%); opacity: 0.82\" title=\"0.001\">kans</span><span style=\"opacity: 0.80\"> </span><span style=\"background-color: hsl(120, 100.00%, 88.49%); opacity: 0.83\" title=\"0.002\">baarmoederhalskanker</span><span style=\"opacity: 0.80\"> </span><span style=\"background-color: hsl(0, 100.00%, 90.54%); opacity: 0.83\" title=\"-0.001\">heel</span><span style=\"opacity: 0.80\"> </span><span style=\"background-color: hsl(120, 100.00%, 97.54%); opacity: 0.80\" title=\"0.000\">groot</span><span style=\"opacity: 0.80\"> </span><span style=\"background-color: hsl(0, 100.00%, 82.86%); opacity: 0.86\" title=\"-0.003\">gaat</span><span style=\"opacity: 0.80\"> </span><span style=\"background-color: hsl(0, 100.00%, 84.11%); opacity: 0.85\" title=\"-0.003\">wel</span><span style=\"opacity: 0.80\"> </span><span style=\"background-color: hsl(120, 100.00%, 87.81%); opacity: 0.84\" title=\"0.002\">ernstige</span><span style=\"opacity: 0.80\"> </span><span style=\"background-color: hsl(120, 100.00%, 94.28%); opacity: 0.81\" title=\"0.001\">ziekte</span><span style=\"opacity: 0.80\"> </span><span style=\"background-color: hsl(120, 100.00%, 91.21%); opacity: 0.82\" title=\"0.001\">elk</span><span style=\"opacity: 0.80\"> </span><span style=\"background-color: hsl(0, 100.00%, 98.89%); opacity: 0.80\" title=\"-0.000\">jaar</span><span style=\"opacity: 0.80\"> </span><span style=\"background-color: hsl(120, 100.00%, 98.28%); opacity: 0.80\" title=\"0.000\">krijgen</span><span style=\"opacity: 0.80\"> </span><span style=\"background-color: hsl(120, 100.00%, 92.50%); opacity: 0.82\" title=\"0.001\">ongeveer</span><span style=\"opacity: 0.80\"> </span><span style=\"background-color: hsl(120, 100.00%, 95.07%); opacity: 0.81\" title=\"0.001\">600</span><span style=\"opacity: 0.80\"> </span><span style=\"background-color: hsl(0, 100.00%, 92.31%); opacity: 0.82\" title=\"-0.001\">vrouwen</span><span style=\"opacity: 0.80\"> </span><span style=\"background-color: hsl(120, 100.00%, 82.60%); opacity: 0.86\" title=\"0.003\">nederland</span><span style=\"opacity: 0.80\"> </span><span style=\"background-color: hsl(120, 100.00%, 88.49%); opacity: 0.83\" title=\"0.002\">baarmoederhalskanker</span><span style=\"opacity: 0.80\"> </span><span style=\"background-color: hsl(0, 100.00%, 92.68%); opacity: 0.82\" title=\"-0.001\">200</span><span style=\"opacity: 0.80\"> </span><span style=\"background-color: hsl(0, 100.00%, 92.31%); opacity: 0.82\" title=\"-0.001\">vrouwen</span><span style=\"opacity: 0.80\"> </span><span style=\"background-color: hsl(120, 100.00%, 89.40%); opacity: 0.83\" title=\"0.002\">overlijden</span><span style=\"opacity: 0.80\"> </span><span style=\"background-color: hsl(0, 100.00%, 93.54%); opacity: 0.81\" title=\"-0.001\">per</span><span style=\"opacity: 0.80\"> </span><span style=\"background-color: hsl(0, 100.00%, 98.89%); opacity: 0.80\" title=\"-0.000\">jaar</span><span style=\"opacity: 0.80\"> </span><span style=\"background-color: hsl(120, 100.00%, 88.49%); opacity: 0.83\" title=\"0.002\">baarmoederhalskanker</span><span style=\"opacity: 0.80\"> </span><span style=\"background-color: hsl(120, 100.00%, 81.14%); opacity: 0.87\" title=\"0.004\">beschermt</span><span style=\"opacity: 0.80\"> </span><span style=\"background-color: hsl(0, 100.00%, 81.70%); opacity: 0.87\" title=\"-0.004\">vaccin</span><span style=\"opacity: 0.80\"> </span><span style=\"background-color: hsl(120, 100.00%, 88.49%); opacity: 0.83\" title=\"0.002\">baarmoederhalskanker</span><span style=\"opacity: 0.80\"> </span><span style=\"background-color: hsl(120, 100.00%, 88.49%); opacity: 0.83\" title=\"0.002\">baarmoederhalskanker</span><span style=\"opacity: 0.80\"> </span><span style=\"background-color: hsl(0, 100.00%, 95.32%); opacity: 0.81\" title=\"-0.001\">veroorzaakt</span><span style=\"opacity: 0.80\"> </span><span style=\"background-color: hsl(120, 100.00%, 88.21%); opacity: 0.83\" title=\"0.002\">hpv</span><span style=\"opacity: 0.80\"> </span><span style=\"background-color: hsl(120, 100.00%, 84.32%); opacity: 0.85\" title=\"0.003\">virus</span><span style=\"opacity: 0.80\"> </span><span style=\"background-color: hsl(120, 100.00%, 77.64%); opacity: 0.89\" title=\"0.005\">inenting</span><span style=\"opacity: 0.80\"> </span><span style=\"background-color: hsl(120, 100.00%, 87.53%); opacity: 0.84\" title=\"0.002\">herkent</span><span style=\"opacity: 0.80\"> </span><span style=\"background-color: hsl(0, 100.00%, 74.49%); opacity: 0.91\" title=\"-0.006\">lichaam</span><span style=\"opacity: 0.80\"> </span><span style=\"background-color: hsl(120, 100.00%, 88.21%); opacity: 0.83\" title=\"0.002\">hpv</span><span style=\"opacity: 0.80\"> </span><span style=\"background-color: hsl(120, 100.00%, 84.32%); opacity: 0.85\" title=\"0.003\">virus</span><span style=\"opacity: 0.80\"> </span><span style=\"background-color: hsl(0, 100.00%, 91.52%); opacity: 0.82\" title=\"-0.001\">hiermee</span><span style=\"opacity: 0.80\"> </span><span style=\"background-color: hsl(120, 100.00%, 84.48%); opacity: 0.85\" title=\"0.003\">aanraking</span><span style=\"opacity: 0.80\"> </span><span style=\"background-color: hsl(120, 100.00%, 99.55%); opacity: 0.80\" title=\"0.000\">komt</span><span style=\"opacity: 0.80\"> </span><span style=\"background-color: hsl(0, 100.00%, 74.49%); opacity: 0.91\" title=\"-0.006\">lichaam</span><span style=\"opacity: 0.80\"> ruimt </span><span style=\"background-color: hsl(120, 100.00%, 84.32%); opacity: 0.85\" title=\"0.003\">virus</span><span style=\"opacity: 0.80\"> </span><span style=\"background-color: hsl(120, 100.00%, 90.17%); opacity: 0.83\" title=\"0.001\">voorkomt</span><span style=\"opacity: 0.80\"> </span><span style=\"background-color: hsl(120, 100.00%, 88.21%); opacity: 0.83\" title=\"0.002\">hpv</span><span style=\"opacity: 0.80\"> </span><span style=\"background-color: hsl(120, 100.00%, 87.74%); opacity: 0.84\" title=\"0.002\">infectie</span><span style=\"opacity: 0.80\"> </span><span style=\"background-color: hsl(120, 100.00%, 96.62%); opacity: 0.81\" title=\"0.000\">hierdoor</span><span style=\"opacity: 0.80\"> </span><span style=\"background-color: hsl(120, 100.00%, 95.00%); opacity: 0.81\" title=\"0.001\">kun</span><span style=\"opacity: 0.80\"> </span><span style=\"background-color: hsl(120, 100.00%, 88.49%); opacity: 0.83\" title=\"0.002\">baarmoederhalskanker</span><span style=\"opacity: 0.80\"> </span><span style=\"background-color: hsl(120, 100.00%, 98.28%); opacity: 0.80\" title=\"0.000\">krijgen</span><span style=\"opacity: 0.80\"> </span><span style=\"background-color: hsl(0, 100.00%, 81.70%); opacity: 0.87\" title=\"-0.004\">vaccin</span><span style=\"opacity: 0.80\"> </span><span style=\"background-color: hsl(120, 100.00%, 81.14%); opacity: 0.87\" title=\"0.004\">beschermt</span><span style=\"opacity: 0.80\"> </span><span style=\"background-color: hsl(120, 100.00%, 92.03%); opacity: 0.82\" title=\"0.001\">alle</span><span style=\"opacity: 0.80\"> </span><span style=\"background-color: hsl(0, 100.00%, 90.04%); opacity: 0.83\" title=\"-0.002\">varianten</span><span style=\"opacity: 0.80\"> </span><span style=\"background-color: hsl(120, 100.00%, 88.21%); opacity: 0.83\" title=\"0.002\">hpv</span><span style=\"opacity: 0.80\"> </span><span style=\"background-color: hsl(120, 100.00%, 84.32%); opacity: 0.85\" title=\"0.003\">virus</span><span style=\"opacity: 0.80\"> </span><span style=\"background-color: hsl(120, 100.00%, 88.49%); opacity: 0.83\" title=\"0.002\">baarmoederhalskanker</span><span style=\"opacity: 0.80\"> </span><span style=\"background-color: hsl(120, 100.00%, 99.18%); opacity: 0.80\" title=\"0.000\">veroorzaken</span><span style=\"opacity: 0.80\"> </span><span style=\"background-color: hsl(120, 100.00%, 88.19%); opacity: 0.84\" title=\"0.002\">vaccinatie</span><span style=\"opacity: 0.80\"> </span><span style=\"background-color: hsl(0, 100.00%, 83.29%); opacity: 0.86\" title=\"-0.003\">beter</span><span style=\"opacity: 0.80\"> </span><span style=\"background-color: hsl(120, 100.00%, 75.18%); opacity: 0.90\" title=\"0.006\">beschermd</span><span style=\"opacity: 0.80\"> </span><span style=\"background-color: hsl(0, 100.00%, 85.83%); opacity: 0.85\" title=\"-0.002\">geeft</span><span style=\"opacity: 0.80\"> </span><span style=\"background-color: hsl(0, 100.00%, 91.18%); opacity: 0.82\" title=\"-0.001\">garantie</span><span style=\"opacity: 0.80\"> </span><span style=\"background-color: hsl(120, 100.00%, 88.49%); opacity: 0.83\" title=\"0.002\">baarmoederhalskanker</span><span style=\"opacity: 0.80\"> </span><span style=\"background-color: hsl(120, 100.00%, 87.85%); opacity: 0.84\" title=\"0.002\">krijgt</span><span style=\"opacity: 0.80\"> </span><span style=\"background-color: hsl(120, 100.00%, 92.32%); opacity: 0.82\" title=\"0.001\">zitten</span><span style=\"opacity: 0.80\"> </span><span style=\"background-color: hsl(120, 100.00%, 93.11%); opacity: 0.82\" title=\"0.001\">gevaarlijke</span><span style=\"opacity: 0.80\"> </span><span style=\"background-color: hsl(0, 100.00%, 71.33%); opacity: 0.92\" title=\"-0.007\">stoffen</span><span style=\"opacity: 0.80\"> </span><span style=\"background-color: hsl(0, 100.00%, 81.70%); opacity: 0.87\" title=\"-0.004\">vaccin</span><span style=\"opacity: 0.80\"> </span><span style=\"background-color: hsl(120, 100.00%, 92.32%); opacity: 0.82\" title=\"0.001\">zitten</span><span style=\"opacity: 0.80\"> </span><span style=\"background-color: hsl(120, 100.00%, 93.11%); opacity: 0.82\" title=\"0.001\">gevaarlijke</span><span style=\"opacity: 0.80\"> </span><span style=\"background-color: hsl(0, 100.00%, 71.33%); opacity: 0.92\" title=\"-0.007\">stoffen</span><span style=\"opacity: 0.80\"> </span><span style=\"background-color: hsl(0, 100.00%, 81.70%); opacity: 0.87\" title=\"-0.004\">vaccin</span><span style=\"opacity: 0.80\"> </span><span style=\"background-color: hsl(0, 100.00%, 79.39%); opacity: 0.88\" title=\"-0.004\">voordat</span><span style=\"opacity: 0.80\"> </span><span style=\"background-color: hsl(0, 100.00%, 94.53%); opacity: 0.81\" title=\"-0.001\">markt</span><span style=\"opacity: 0.80\"> </span><span style=\"background-color: hsl(0, 100.00%, 86.61%); opacity: 0.84\" title=\"-0.002\">gebracht</span><span style=\"opacity: 0.80\"> </span><span style=\"background-color: hsl(0, 100.00%, 76.17%); opacity: 0.90\" title=\"-0.005\">vaccins</span><span style=\"opacity: 0.80\"> </span><span style=\"background-color: hsl(120, 100.00%, 95.55%); opacity: 0.81\" title=\"0.000\">uitgebreid</span><span style=\"opacity: 0.80\"> </span><span style=\"background-color: hsl(0, 100.00%, 97.41%); opacity: 0.80\" title=\"-0.000\">getest</span><span style=\"opacity: 0.80\"> </span><span style=\"background-color: hsl(0, 100.00%, 79.11%); opacity: 0.88\" title=\"-0.004\">veiligheid</span><span style=\"opacity: 0.80\"> </span><span style=\"background-color: hsl(120, 100.00%, 92.68%); opacity: 0.82\" title=\"0.001\">gebeurt</span><span style=\"opacity: 0.80\"> </span><span style=\"background-color: hsl(120, 100.00%, 93.12%); opacity: 0.82\" title=\"0.001\">volgens</span><span style=\"opacity: 0.80\"> </span><span style=\"background-color: hsl(120, 100.00%, 96.22%); opacity: 0.81\" title=\"0.000\">strenge</span><span style=\"opacity: 0.80\"> </span><span style=\"background-color: hsl(0, 100.00%, 93.69%); opacity: 0.81\" title=\"-0.001\">internationale</span><span style=\"opacity: 0.80\"> </span><span style=\"background-color: hsl(0, 100.00%, 94.99%); opacity: 0.81\" title=\"-0.001\">eisen</span><span style=\"opacity: 0.80\"> </span><span style=\"background-color: hsl(0, 100.00%, 76.17%); opacity: 0.90\" title=\"-0.005\">vaccins</span><span style=\"opacity: 0.80\"> </span><span style=\"background-color: hsl(120, 100.00%, 94.13%); opacity: 0.81\" title=\"0.001\">bevatten</span><span style=\"opacity: 0.80\"> insectencellen rattengif </span><span style=\"background-color: hsl(0, 100.00%, 95.67%); opacity: 0.81\" title=\"-0.000\">hormonen</span><span style=\"opacity: 0.80\"> </span><span style=\"background-color: hsl(0, 100.00%, 89.24%); opacity: 0.83\" title=\"-0.002\">erfelijk</span><span style=\"opacity: 0.80\"> </span><span style=\"background-color: hsl(0, 100.00%, 81.01%); opacity: 0.87\" title=\"-0.004\">materiaal</span><span style=\"opacity: 0.80\"> </span><span style=\"background-color: hsl(0, 100.00%, 86.57%); opacity: 0.84\" title=\"-0.002\">polysorbaat</span><span style=\"opacity: 0.80\"> </span><span style=\"background-color: hsl(0, 100.00%, 84.82%); opacity: 0.85\" title=\"-0.003\">80</span><span style=\"opacity: 0.80\"> </span><span style=\"background-color: hsl(0, 100.00%, 60.00%); opacity: 1.00\" title=\"-0.011\">bijsluiter</span><span style=\"opacity: 0.80\"> </span><span style=\"background-color: hsl(0, 100.00%, 81.70%); opacity: 0.87\" title=\"-0.004\">vaccin</span><span style=\"opacity: 0.80\"> </span><span style=\"background-color: hsl(0, 100.00%, 90.56%); opacity: 0.83\" title=\"-0.001\">staat</span><span style=\"opacity: 0.80\"> </span><span style=\"background-color: hsl(0, 100.00%, 88.50%); opacity: 0.83\" title=\"-0.002\">precies</span><span style=\"opacity: 0.80\"> </span><span style=\"background-color: hsl(0, 100.00%, 87.03%); opacity: 0.84\" title=\"-0.002\">beschreven</span><span style=\"opacity: 0.80\"> </span><span style=\"background-color: hsl(0, 100.00%, 97.89%); opacity: 0.80\" title=\"-0.000\">welke</span><span style=\"opacity: 0.80\"> </span><span style=\"background-color: hsl(0, 100.00%, 71.33%); opacity: 0.92\" title=\"-0.007\">stoffen</span><span style=\"opacity: 0.80\"> </span><span style=\"background-color: hsl(120, 100.00%, 94.82%); opacity: 0.81\" title=\"0.001\">erin</span><span style=\"opacity: 0.80\"> </span><span style=\"background-color: hsl(120, 100.00%, 92.32%); opacity: 0.82\" title=\"0.001\">zitten</span><span style=\"opacity: 0.80\"> </span><span style=\"background-color: hsl(120, 100.00%, 79.26%); opacity: 0.88\" title=\"0.004\">zin</span><span style=\"opacity: 0.80\"> </span><span style=\"background-color: hsl(120, 100.00%, 73.27%); opacity: 0.91\" title=\"0.006\">prik</span><span style=\"opacity: 0.80\"> </span><span style=\"background-color: hsl(120, 100.00%, 91.13%); opacity: 0.82\" title=\"0.001\">halen</span><span style=\"opacity: 0.80\"> </span><span style=\"background-color: hsl(120, 100.00%, 99.63%); opacity: 0.80\" title=\"0.000\">seks</span><span style=\"opacity: 0.80\"> </span><span style=\"background-color: hsl(120, 100.00%, 95.34%); opacity: 0.81\" title=\"0.001\">hebt</span><span style=\"opacity: 0.80\"> </span><span style=\"background-color: hsl(120, 100.00%, 97.46%); opacity: 0.80\" title=\"0.000\">gehad</span><span style=\"opacity: 0.80\"> </span><span style=\"background-color: hsl(120, 100.00%, 77.64%); opacity: 0.89\" title=\"0.005\">inenting</span><span style=\"opacity: 0.80\"> </span><span style=\"background-color: hsl(120, 100.00%, 93.52%); opacity: 0.81\" title=\"0.001\">vooral</span><span style=\"opacity: 0.80\"> </span><span style=\"background-color: hsl(120, 100.00%, 79.26%); opacity: 0.88\" title=\"0.004\">zin</span><span style=\"opacity: 0.80\"> </span><span style=\"background-color: hsl(120, 100.00%, 88.21%); opacity: 0.83\" title=\"0.002\">hpv</span><span style=\"opacity: 0.80\"> </span><span style=\"background-color: hsl(120, 100.00%, 84.32%); opacity: 0.85\" title=\"0.003\">virus</span><span style=\"opacity: 0.80\"> </span><span style=\"background-color: hsl(120, 100.00%, 81.13%); opacity: 0.87\" title=\"0.004\">besmet</span><span style=\"opacity: 0.80\"> </span><span style=\"background-color: hsl(0, 100.00%, 90.77%); opacity: 0.82\" title=\"-0.001\">bent</span><span style=\"opacity: 0.80\"> </span><span style=\"background-color: hsl(120, 100.00%, 99.63%); opacity: 0.80\" title=\"0.000\">seks</span><span style=\"opacity: 0.80\"> </span><span style=\"background-color: hsl(120, 100.00%, 95.34%); opacity: 0.81\" title=\"0.001\">hebt</span><span style=\"opacity: 0.80\"> </span><span style=\"background-color: hsl(120, 100.00%, 97.46%); opacity: 0.80\" title=\"0.000\">gehad</span><span style=\"opacity: 0.80\"> </span><span style=\"background-color: hsl(0, 100.00%, 94.09%); opacity: 0.81\" title=\"-0.001\">mogelijk</span><span style=\"opacity: 0.80\"> </span><span style=\"background-color: hsl(120, 100.00%, 81.13%); opacity: 0.87\" title=\"0.004\">besmet</span><span style=\"opacity: 0.80\"> </span><span style=\"background-color: hsl(120, 100.00%, 97.34%); opacity: 0.80\" title=\"0.000\">één</span><span style=\"opacity: 0.80\"> </span><span style=\"background-color: hsl(0, 100.00%, 83.94%); opacity: 0.85\" title=\"-0.003\">beide</span><span style=\"opacity: 0.80\"> </span><span style=\"background-color: hsl(0, 100.00%, 99.42%); opacity: 0.80\" title=\"-0.000\">typen</span><span style=\"opacity: 0.80\"> </span><span style=\"background-color: hsl(120, 100.00%, 88.21%); opacity: 0.83\" title=\"0.002\">hpv</span><span style=\"opacity: 0.80\"> </span><span style=\"background-color: hsl(120, 100.00%, 84.32%); opacity: 0.85\" title=\"0.003\">virus</span><span style=\"opacity: 0.80\"> </span><span style=\"background-color: hsl(120, 100.00%, 79.26%); opacity: 0.88\" title=\"0.004\">zin</span><span style=\"opacity: 0.80\"> </span><span style=\"background-color: hsl(120, 100.00%, 73.27%); opacity: 0.91\" title=\"0.006\">prik</span><span style=\"opacity: 0.80\"> </span><span style=\"background-color: hsl(120, 100.00%, 91.13%); opacity: 0.82\" title=\"0.001\">halen</span><span style=\"opacity: 0.80\"> </span><span style=\"background-color: hsl(120, 100.00%, 79.26%); opacity: 0.88\" title=\"0.004\">zin</span><span style=\"opacity: 0.80\"> </span><span style=\"background-color: hsl(120, 100.00%, 73.27%); opacity: 0.91\" title=\"0.006\">prik</span><span style=\"opacity: 0.80\"> </span><span style=\"background-color: hsl(120, 100.00%, 91.13%); opacity: 0.82\" title=\"0.001\">halen</span><span style=\"opacity: 0.80\"> </span><span style=\"background-color: hsl(120, 100.00%, 80.65%); opacity: 0.87\" title=\"0.004\">meisjes</span><span style=\"opacity: 0.80\"> </span><span style=\"background-color: hsl(0, 100.00%, 88.40%); opacity: 0.83\" title=\"-0.002\">valt</span><span style=\"opacity: 0.80\"> </span><span style=\"background-color: hsl(0, 100.00%, 82.78%); opacity: 0.86\" title=\"-0.003\">kunt</span><span style=\"opacity: 0.80\"> </span><span style=\"background-color: hsl(120, 100.00%, 84.32%); opacity: 0.85\" title=\"0.003\">virus</span><span style=\"opacity: 0.80\"> </span><span style=\"background-color: hsl(120, 100.00%, 98.28%); opacity: 0.80\" title=\"0.000\">krijgen</span><span style=\"opacity: 0.80\"> </span><span style=\"background-color: hsl(0, 100.00%, 90.91%); opacity: 0.82\" title=\"-0.001\">meisje</span><span style=\"opacity: 0.80\"> </span><span style=\"background-color: hsl(0, 100.00%, 85.03%); opacity: 0.85\" title=\"-0.003\">ander</span><span style=\"opacity: 0.80\"> </span><span style=\"background-color: hsl(0, 100.00%, 90.91%); opacity: 0.82\" title=\"-0.001\">meisje</span><span style=\"opacity: 0.80\"> vrijt </span><span style=\"background-color: hsl(120, 100.00%, 96.23%); opacity: 0.81\" title=\"0.000\">plan</span><span style=\"opacity: 0.80\"> </span><span style=\"background-color: hsl(0, 100.00%, 88.30%); opacity: 0.83\" title=\"-0.002\">wachten</span><span style=\"opacity: 0.80\"> </span><span style=\"background-color: hsl(120, 100.00%, 99.63%); opacity: 0.80\" title=\"0.000\">seks</span><span style=\"opacity: 0.80\"> </span><span style=\"background-color: hsl(0, 100.00%, 96.54%); opacity: 0.81\" title=\"-0.000\">huwelijk</span><span style=\"opacity: 0.80\"> </span><span style=\"background-color: hsl(120, 100.00%, 73.27%); opacity: 0.91\" title=\"0.006\">prik</span><span style=\"opacity: 0.80\"> </span><span style=\"background-color: hsl(120, 100.00%, 92.08%); opacity: 0.82\" title=\"0.001\">nodig</span><span style=\"opacity: 0.80\"> </span><span style=\"background-color: hsl(120, 100.00%, 88.21%); opacity: 0.83\" title=\"0.002\">hpv</span><span style=\"opacity: 0.80\"> </span><span style=\"background-color: hsl(120, 100.00%, 84.32%); opacity: 0.85\" title=\"0.003\">virus</span><span style=\"opacity: 0.80\"> </span><span style=\"background-color: hsl(120, 100.00%, 99.55%); opacity: 0.80\" title=\"0.000\">komt</span><span style=\"opacity: 0.80\"> </span><span style=\"background-color: hsl(120, 100.00%, 92.50%); opacity: 0.82\" title=\"0.001\">ongeveer</span><span style=\"opacity: 0.80\"> </span><span style=\"background-color: hsl(0, 100.00%, 84.82%); opacity: 0.85\" title=\"-0.003\">80</span><span style=\"opacity: 0.80\"> </span><span style=\"background-color: hsl(120, 100.00%, 84.89%); opacity: 0.85\" title=\"0.003\">mensen</span><span style=\"opacity: 0.80\"> </span><span style=\"background-color: hsl(120, 100.00%, 97.23%); opacity: 0.80\" title=\"0.000\">ooit</span><span style=\"opacity: 0.80\"> </span><span style=\"background-color: hsl(120, 100.00%, 88.21%); opacity: 0.83\" title=\"0.002\">hpv</span><span style=\"opacity: 0.80\"> </span><span style=\"background-color: hsl(120, 100.00%, 87.74%); opacity: 0.84\" title=\"0.002\">infectie</span><span style=\"opacity: 0.80\"> </span><span style=\"background-color: hsl(120, 100.00%, 97.46%); opacity: 0.80\" title=\"0.000\">gehad</span><span style=\"opacity: 0.80\"> </span><span style=\"background-color: hsl(0, 100.00%, 94.09%); opacity: 0.81\" title=\"-0.001\">degene</span><span style=\"opacity: 0.80\"> trouwt </span><span style=\"background-color: hsl(0, 100.00%, 77.38%); opacity: 0.89\" title=\"-0.005\">weten</span><span style=\"opacity: 0.80\"> </span><span style=\"background-color: hsl(120, 100.00%, 84.32%); opacity: 0.85\" title=\"0.003\">virus</span><span style=\"opacity: 0.80\"> </span><span style=\"background-color: hsl(0, 100.00%, 97.44%); opacity: 0.80\" title=\"-0.000\">dragen</span><span style=\"opacity: 0.80\"> </span><span style=\"background-color: hsl(120, 100.00%, 95.00%); opacity: 0.81\" title=\"0.001\">kun</span><span style=\"opacity: 0.80\"> </span><span style=\"background-color: hsl(120, 100.00%, 88.21%); opacity: 0.83\" title=\"0.002\">hpv</span><span style=\"opacity: 0.80\"> </span><span style=\"background-color: hsl(120, 100.00%, 87.74%); opacity: 0.84\" title=\"0.002\">infectie</span><span style=\"opacity: 0.80\"> </span><span style=\"background-color: hsl(0, 100.00%, 94.09%); opacity: 0.81\" title=\"-0.001\">oplopen</span><span style=\"opacity: 0.80\"> </span><span style=\"background-color: hsl(120, 100.00%, 95.00%); opacity: 0.81\" title=\"0.001\">kun</span><span style=\"opacity: 0.80\"> </span><span style=\"background-color: hsl(120, 100.00%, 77.64%); opacity: 0.89\" title=\"0.005\">inenting</span><span style=\"opacity: 0.80\"> </span><span style=\"background-color: hsl(120, 100.00%, 91.13%); opacity: 0.82\" title=\"0.001\">halen</span><span style=\"opacity: 0.80\"> ongesteld </span><span style=\"background-color: hsl(0, 100.00%, 90.77%); opacity: 0.82\" title=\"-0.001\">bent</span><span style=\"opacity: 0.80\"> </span><span style=\"background-color: hsl(120, 100.00%, 98.14%); opacity: 0.80\" title=\"0.000\">pil</span><span style=\"opacity: 0.80\"> </span><span style=\"background-color: hsl(120, 100.00%, 98.72%); opacity: 0.80\" title=\"0.000\">slikt</span><span style=\"opacity: 0.80\"> ongesteld </span><span style=\"background-color: hsl(0, 100.00%, 90.77%); opacity: 0.82\" title=\"-0.001\">bent</span><span style=\"opacity: 0.80\"> </span><span style=\"background-color: hsl(120, 100.00%, 95.00%); opacity: 0.81\" title=\"0.001\">kun</span><span style=\"opacity: 0.80\"> </span><span style=\"background-color: hsl(120, 100.00%, 95.98%); opacity: 0.81\" title=\"0.000\">gewoon</span><span style=\"opacity: 0.80\"> </span><span style=\"background-color: hsl(120, 100.00%, 73.27%); opacity: 0.91\" title=\"0.006\">prik</span><span style=\"opacity: 0.80\"> </span><span style=\"background-color: hsl(120, 100.00%, 91.13%); opacity: 0.82\" title=\"0.001\">halen</span><span style=\"opacity: 0.80\"> </span><span style=\"background-color: hsl(120, 100.00%, 98.14%); opacity: 0.80\" title=\"0.000\">pil</span><span style=\"opacity: 0.80\"> </span><span style=\"background-color: hsl(120, 100.00%, 98.72%); opacity: 0.80\" title=\"0.000\">slikt</span><span style=\"opacity: 0.80\"> </span><span style=\"background-color: hsl(120, 100.00%, 95.00%); opacity: 0.81\" title=\"0.001\">kun</span><span style=\"opacity: 0.80\"> </span><span style=\"background-color: hsl(120, 100.00%, 95.98%); opacity: 0.81\" title=\"0.000\">gewoon</span><span style=\"opacity: 0.80\"> </span><span style=\"background-color: hsl(120, 100.00%, 77.64%); opacity: 0.89\" title=\"0.005\">inenting</span><span style=\"opacity: 0.80\"> </span><span style=\"background-color: hsl(120, 100.00%, 91.13%); opacity: 0.82\" title=\"0.001\">halen</span><span style=\"opacity: 0.80\"> </span><span style=\"background-color: hsl(120, 100.00%, 98.14%); opacity: 0.80\" title=\"0.000\">pil</span><span style=\"opacity: 0.80\"> </span><span style=\"background-color: hsl(0, 100.00%, 93.27%); opacity: 0.82\" title=\"-0.001\">invloed</span><span style=\"opacity: 0.80\"> </span><span style=\"background-color: hsl(120, 100.00%, 77.64%); opacity: 0.89\" title=\"0.005\">inenting</span><span style=\"opacity: 0.80\"> </span><span style=\"background-color: hsl(0, 100.00%, 90.76%); opacity: 0.82\" title=\"-0.001\">wanneer</span><span style=\"opacity: 0.80\"> </span><span style=\"background-color: hsl(0, 100.00%, 83.29%); opacity: 0.86\" title=\"-0.003\">beter</span><span style=\"opacity: 0.80\"> </span><span style=\"background-color: hsl(120, 100.00%, 85.04%); opacity: 0.85\" title=\"0.003\">laten</span><span style=\"opacity: 0.80\"> </span><span style=\"background-color: hsl(120, 100.00%, 65.38%); opacity: 0.96\" title=\"0.009\">inenten</span><span style=\"opacity: 0.80\"> </span><span style=\"background-color: hsl(0, 100.00%, 82.78%); opacity: 0.86\" title=\"-0.003\">kunt</span><span style=\"opacity: 0.80\"> </span><span style=\"background-color: hsl(120, 100.00%, 77.64%); opacity: 0.89\" title=\"0.005\">inenting</span><span style=\"opacity: 0.80\"> </span><span style=\"background-color: hsl(0, 100.00%, 83.29%); opacity: 0.86\" title=\"-0.003\">beter</span><span style=\"opacity: 0.80\"> </span><span style=\"background-color: hsl(120, 100.00%, 97.01%); opacity: 0.80\" title=\"0.000\">uitstellen</span><span style=\"opacity: 0.80\"> </span><span style=\"background-color: hsl(120, 100.00%, 91.42%); opacity: 0.82\" title=\"0.001\">koorts</span><span style=\"opacity: 0.80\"> </span><span style=\"background-color: hsl(120, 100.00%, 95.34%); opacity: 0.81\" title=\"0.001\">hebt</span><span style=\"opacity: 0.80\"> </span><span style=\"background-color: hsl(0, 100.00%, 89.59%); opacity: 0.83\" title=\"-0.002\">38</span><span style=\"opacity: 0.80\"> 5 </span><span style=\"background-color: hsl(0, 100.00%, 87.61%); opacity: 0.84\" title=\"-0.002\">graden</span><span style=\"opacity: 0.80\"> celcius </span><span style=\"background-color: hsl(0, 100.00%, 97.66%); opacity: 0.80\" title=\"-0.000\">jezelf</span><span style=\"opacity: 0.80\"> </span><span style=\"background-color: hsl(120, 100.00%, 96.12%); opacity: 0.81\" title=\"0.000\">ziek</span><span style=\"opacity: 0.80\"> </span><span style=\"background-color: hsl(0, 100.00%, 88.46%); opacity: 0.83\" title=\"-0.002\">voelt</span><span style=\"opacity: 0.80\"> </span><span style=\"background-color: hsl(0, 100.00%, 84.79%); opacity: 0.85\" title=\"-0.003\">buiten</span><span style=\"opacity: 0.80\"> </span><span style=\"background-color: hsl(0, 100.00%, 90.71%); opacity: 0.82\" title=\"-0.001\">gaan</span><span style=\"opacity: 0.80\"> </span><span style=\"background-color: hsl(0, 100.00%, 83.98%); opacity: 0.85\" title=\"-0.003\">zwanger</span><span style=\"opacity: 0.80\"> </span><span style=\"background-color: hsl(0, 100.00%, 90.77%); opacity: 0.82\" title=\"-0.001\">bent</span><span style=\"opacity: 0.80\"> </span><span style=\"background-color: hsl(120, 100.00%, 94.28%); opacity: 0.81\" title=\"0.001\">ziekte</span><span style=\"opacity: 0.80\"> </span><span style=\"background-color: hsl(0, 100.00%, 90.79%); opacity: 0.82\" title=\"-0.001\">medicijnen</span><span style=\"opacity: 0.80\"> </span><span style=\"background-color: hsl(120, 100.00%, 87.81%); opacity: 0.84\" title=\"0.002\">ernstige</span><span style=\"opacity: 0.80\"> </span><span style=\"background-color: hsl(120, 100.00%, 97.96%); opacity: 0.80\" title=\"0.000\">stoornis</span><span style=\"opacity: 0.80\"> </span><span style=\"background-color: hsl(0, 100.00%, 93.81%); opacity: 0.81\" title=\"-0.001\">afweersysteem</span><span style=\"opacity: 0.80\"> </span><span style=\"background-color: hsl(120, 100.00%, 95.34%); opacity: 0.81\" title=\"0.001\">hebt</span><span style=\"opacity: 0.80\"> </span><span style=\"background-color: hsl(120, 100.00%, 96.43%); opacity: 0.81\" title=\"0.000\">hierover</span><span style=\"opacity: 0.80\"> </span><span style=\"background-color: hsl(0, 100.00%, 94.73%); opacity: 0.81\" title=\"-0.001\">overleggen</span><span style=\"opacity: 0.80\"> </span><span style=\"background-color: hsl(0, 100.00%, 94.99%); opacity: 0.81\" title=\"-0.001\">deskundige</span><span style=\"opacity: 0.80\"> </span><span style=\"background-color: hsl(120, 100.00%, 88.32%); opacity: 0.83\" title=\"0.002\">neem</span><span style=\"opacity: 0.80\"> </span><span style=\"background-color: hsl(120, 100.00%, 94.35%); opacity: 0.81\" title=\"0.001\">contact</span><span style=\"opacity: 0.80\"> </span><span style=\"background-color: hsl(120, 100.00%, 70.52%); opacity: 0.93\" title=\"0.007\">ggd</span><span style=\"opacity: 0.80\"> gemeentelijke </span><span style=\"background-color: hsl(0, 100.00%, 94.74%); opacity: 0.81\" title=\"-0.001\">gezondheidsdienst</span><span style=\"opacity: 0.80\"> </span><span style=\"background-color: hsl(120, 100.00%, 80.74%); opacity: 0.87\" title=\"0.004\">centrum</span><span style=\"opacity: 0.80\"> </span><span style=\"background-color: hsl(120, 100.00%, 84.60%); opacity: 0.85\" title=\"0.003\">jeugd</span><span style=\"opacity: 0.80\"> </span><span style=\"background-color: hsl(120, 100.00%, 72.83%); opacity: 0.92\" title=\"0.006\">gezin</span><span style=\"opacity: 0.80\"> </span><span style=\"background-color: hsl(120, 100.00%, 89.19%); opacity: 0.83\" title=\"0.002\">contactgegevens</span><span style=\"opacity: 0.80\"> </span><span style=\"background-color: hsl(0, 100.00%, 86.13%); opacity: 0.84\" title=\"-0.002\">staan</span><span style=\"opacity: 0.80\"> uitnodigingsbrief </span><span style=\"background-color: hsl(120, 100.00%, 94.79%); opacity: 0.81\" title=\"0.001\">huisarts</span><span style=\"opacity: 0.80\"> </span><span style=\"background-color: hsl(0, 100.00%, 81.51%); opacity: 0.87\" title=\"-0.004\">veilig</span><span style=\"opacity: 0.80\"> vrijen </span><span style=\"background-color: hsl(120, 100.00%, 92.08%); opacity: 0.82\" title=\"0.001\">nodig</span><span style=\"opacity: 0.80\"> </span><span style=\"background-color: hsl(120, 100.00%, 68.95%); opacity: 0.94\" title=\"0.008\">ingeënt</span><span style=\"opacity: 0.80\"> </span><span style=\"background-color: hsl(0, 100.00%, 90.77%); opacity: 0.82\" title=\"-0.001\">bent</span><span style=\"opacity: 0.80\"> </span><span style=\"background-color: hsl(0, 100.00%, 81.70%); opacity: 0.87\" title=\"-0.004\">vaccin</span><span style=\"opacity: 0.80\"> </span><span style=\"background-color: hsl(120, 100.00%, 81.14%); opacity: 0.87\" title=\"0.004\">beschermt</span><span style=\"opacity: 0.80\"> </span><span style=\"background-color: hsl(120, 100.00%, 92.28%); opacity: 0.82\" title=\"0.001\">twee</span><span style=\"opacity: 0.80\"> </span><span style=\"background-color: hsl(120, 100.00%, 88.21%); opacity: 0.83\" title=\"0.002\">hpv</span><span style=\"opacity: 0.80\"> </span><span style=\"background-color: hsl(0, 100.00%, 90.04%); opacity: 0.83\" title=\"-0.002\">varianten</span><span style=\"opacity: 0.80\"> </span><span style=\"background-color: hsl(120, 100.00%, 88.49%); opacity: 0.83\" title=\"0.002\">baarmoederhalskanker</span><span style=\"opacity: 0.80\"> </span><span style=\"background-color: hsl(120, 100.00%, 99.18%); opacity: 0.80\" title=\"0.000\">veroorzaken</span><span style=\"opacity: 0.80\"> </span><span style=\"background-color: hsl(0, 100.00%, 81.70%); opacity: 0.87\" title=\"-0.004\">vaccin</span><span style=\"opacity: 0.80\"> </span><span style=\"background-color: hsl(120, 100.00%, 81.14%); opacity: 0.87\" title=\"0.004\">beschermt</span><span style=\"opacity: 0.80\"> </span><span style=\"background-color: hsl(0, 100.00%, 88.52%); opacity: 0.83\" title=\"-0.002\">seksueel</span><span style=\"opacity: 0.80\"> </span><span style=\"background-color: hsl(0, 100.00%, 86.24%); opacity: 0.84\" title=\"-0.002\">overdraagbare</span><span style=\"opacity: 0.80\"> </span><span style=\"background-color: hsl(0, 100.00%, 79.16%); opacity: 0.88\" title=\"-0.004\">aandoeningen</span><span style=\"opacity: 0.80\"> </span><span style=\"background-color: hsl(0, 100.00%, 95.12%); opacity: 0.81\" title=\"-0.001\">zoals</span><span style=\"opacity: 0.80\"> chlamydia </span><span style=\"background-color: hsl(120, 100.00%, 92.01%); opacity: 0.82\" title=\"0.001\">hiv</span><span style=\"opacity: 0.80\"> </span><span style=\"background-color: hsl(120, 100.00%, 86.52%); opacity: 0.84\" title=\"0.002\">humaan</span><span style=\"opacity: 0.80\"> immunodeficientievirus </span><span style=\"background-color: hsl(0, 100.00%, 81.51%); opacity: 0.87\" title=\"-0.004\">veilig</span><span style=\"opacity: 0.80\"> vrijen </span><span style=\"background-color: hsl(0, 100.00%, 86.77%); opacity: 0.84\" title=\"-0.002\">blijft</span><span style=\"opacity: 0.80\"> </span><span style=\"background-color: hsl(120, 100.00%, 87.67%); opacity: 0.84\" title=\"0.002\">belangrijk</span><span style=\"opacity: 0.80\"> </span><span style=\"background-color: hsl(120, 100.00%, 94.97%); opacity: 0.81\" title=\"0.001\">uitstrijkje</span><span style=\"opacity: 0.80\"> </span><span style=\"background-color: hsl(120, 100.00%, 92.08%); opacity: 0.82\" title=\"0.001\">nodig</span><span style=\"opacity: 0.80\"> </span><span style=\"background-color: hsl(120, 100.00%, 88.21%); opacity: 0.83\" title=\"0.002\">hpv</span><span style=\"opacity: 0.80\"> </span><span style=\"background-color: hsl(120, 100.00%, 77.64%); opacity: 0.89\" title=\"0.005\">inenting</span><span style=\"opacity: 0.80\"> </span><span style=\"background-color: hsl(120, 100.00%, 95.34%); opacity: 0.81\" title=\"0.001\">hebt</span><span style=\"opacity: 0.80\"> </span><span style=\"background-color: hsl(120, 100.00%, 97.46%); opacity: 0.80\" title=\"0.000\">gehad</span><span style=\"opacity: 0.80\"> </span><span style=\"background-color: hsl(0, 100.00%, 86.77%); opacity: 0.84\" title=\"-0.002\">blijft</span><span style=\"opacity: 0.80\"> </span><span style=\"background-color: hsl(120, 100.00%, 87.67%); opacity: 0.84\" title=\"0.002\">belangrijk</span><span style=\"opacity: 0.80\"> </span><span style=\"background-color: hsl(0, 100.00%, 88.87%); opacity: 0.83\" title=\"-0.002\">vanaf</span><span style=\"opacity: 0.80\"> 30e </span><span style=\"background-color: hsl(120, 100.00%, 94.97%); opacity: 0.81\" title=\"0.001\">uitstrijkje</span><span style=\"opacity: 0.80\"> </span><span style=\"background-color: hsl(120, 100.00%, 85.04%); opacity: 0.85\" title=\"0.003\">laten</span><span style=\"opacity: 0.80\"> </span><span style=\"background-color: hsl(0, 100.00%, 91.22%); opacity: 0.82\" title=\"-0.001\">maken</span><span style=\"opacity: 0.80\"> </span><span style=\"background-color: hsl(120, 100.00%, 78.35%); opacity: 0.88\" title=\"0.005\">gevaccineerd</span><span style=\"opacity: 0.80\"> </span><span style=\"background-color: hsl(120, 100.00%, 88.21%); opacity: 0.83\" title=\"0.002\">hpv</span><span style=\"opacity: 0.80\"> </span><span style=\"background-color: hsl(120, 100.00%, 77.64%); opacity: 0.89\" title=\"0.005\">inenting</span><span style=\"opacity: 0.80\"> </span><span style=\"background-color: hsl(120, 100.00%, 81.14%); opacity: 0.87\" title=\"0.004\">beschermt</span><span style=\"opacity: 0.80\"> </span><span style=\"background-color: hsl(120, 100.00%, 76.61%); opacity: 0.89\" title=\"0.005\">namelijk</span><span style=\"opacity: 0.80\"> </span><span style=\"background-color: hsl(120, 100.00%, 92.03%); opacity: 0.82\" title=\"0.001\">alle</span><span style=\"opacity: 0.80\"> </span><span style=\"background-color: hsl(120, 100.00%, 88.21%); opacity: 0.83\" title=\"0.002\">hpv</span><span style=\"opacity: 0.80\"> </span><span style=\"background-color: hsl(0, 100.00%, 90.04%); opacity: 0.83\" title=\"-0.002\">varianten</span><span style=\"opacity: 0.80\"> </span><span style=\"background-color: hsl(120, 100.00%, 88.49%); opacity: 0.83\" title=\"0.002\">baarmoederhalskanker</span><span style=\"opacity: 0.80\"> </span><span style=\"background-color: hsl(120, 100.00%, 99.18%); opacity: 0.80\" title=\"0.000\">veroorzaken</span><span style=\"opacity: 0.80\"> </span><span style=\"background-color: hsl(0, 100.00%, 89.46%); opacity: 0.83\" title=\"-0.002\">kader</span><span style=\"opacity: 0.80\"> </span><span style=\"background-color: hsl(0, 100.00%, 97.96%); opacity: 0.80\" title=\"-0.000\">bevolkingsonderzoek</span><span style=\"opacity: 0.80\"> </span><span style=\"background-color: hsl(120, 100.00%, 88.49%); opacity: 0.83\" title=\"0.002\">baarmoederhalskanker</span><span style=\"opacity: 0.80\"> </span><span style=\"background-color: hsl(120, 100.00%, 93.47%); opacity: 0.82\" title=\"0.001\">krijg</span><span style=\"opacity: 0.80\"> </span><span style=\"background-color: hsl(0, 100.00%, 88.87%); opacity: 0.83\" title=\"-0.002\">vanaf</span><span style=\"opacity: 0.80\"> 30e 60e </span><span style=\"background-color: hsl(0, 100.00%, 88.02%); opacity: 0.84\" title=\"-0.002\">elke</span><span style=\"opacity: 0.80\"> </span><span style=\"background-color: hsl(120, 100.00%, 88.22%); opacity: 0.83\" title=\"0.002\">vijf</span><span style=\"opacity: 0.80\"> </span><span style=\"background-color: hsl(0, 100.00%, 98.89%); opacity: 0.80\" title=\"-0.000\">jaar</span><span style=\"opacity: 0.80\"> </span><span style=\"background-color: hsl(0, 100.00%, 95.47%); opacity: 0.81\" title=\"-0.000\">uitnodiging</span><span style=\"opacity: 0.80\"> </span><span style=\"background-color: hsl(120, 100.00%, 94.79%); opacity: 0.81\" title=\"0.001\">huisarts</span><span style=\"opacity: 0.80\"> </span><span style=\"background-color: hsl(120, 100.00%, 94.97%); opacity: 0.81\" title=\"0.001\">uitstrijkje</span><span style=\"opacity: 0.80\"> </span><span style=\"background-color: hsl(120, 100.00%, 85.04%); opacity: 0.85\" title=\"0.003\">laten</span><span style=\"opacity: 0.80\"> </span><span style=\"background-color: hsl(0, 100.00%, 91.22%); opacity: 0.82\" title=\"-0.001\">maken</span><span style=\"opacity: 0.80\"> </span><span style=\"background-color: hsl(0, 100.00%, 83.85%); opacity: 0.85\" title=\"-0.003\">onderzoeken</span><span style=\"opacity: 0.80\"> </span><span style=\"background-color: hsl(120, 100.00%, 88.49%); opacity: 0.83\" title=\"0.002\">baarmoederhalskanker</span><span style=\"opacity: 0.80\"> </span><span style=\"background-color: hsl(120, 100.00%, 95.34%); opacity: 0.81\" title=\"0.001\">hebt</span><span style=\"opacity: 0.80\"> </span><span style=\"background-color: hsl(120, 100.00%, 86.34%); opacity: 0.84\" title=\"0.002\">bijwerkingen</span><span style=\"opacity: 0.80\"> </span><span style=\"background-color: hsl(0, 100.00%, 76.17%); opacity: 0.90\" title=\"-0.005\">vaccins</span><span style=\"opacity: 0.80\"> </span><span style=\"background-color: hsl(120, 100.00%, 86.34%); opacity: 0.84\" title=\"0.002\">bijwerkingen</span><span style=\"opacity: 0.80\"> </span><span style=\"background-color: hsl(120, 100.00%, 99.18%); opacity: 0.80\" title=\"0.000\">veroorzaken</span><span style=\"opacity: 0.80\"> </span><span style=\"background-color: hsl(120, 100.00%, 86.34%); opacity: 0.84\" title=\"0.002\">bijwerkingen</span><span style=\"opacity: 0.80\"> </span><span style=\"background-color: hsl(0, 100.00%, 79.98%); opacity: 0.87\" title=\"-0.004\">goed</span><span style=\"opacity: 0.80\"> </span><span style=\"background-color: hsl(120, 100.00%, 91.61%); opacity: 0.82\" title=\"0.001\">gaten</span><span style=\"opacity: 0.80\"> </span><span style=\"background-color: hsl(0, 100.00%, 96.38%); opacity: 0.81\" title=\"-0.000\">gehouden</span><span style=\"opacity: 0.80\"> </span><span style=\"background-color: hsl(120, 100.00%, 93.97%); opacity: 0.81\" title=\"0.001\">zorgen</span><span style=\"opacity: 0.80\"> </span><span style=\"background-color: hsl(0, 100.00%, 81.51%); opacity: 0.87\" title=\"-0.004\">veilig</span><span style=\"opacity: 0.80\"> </span><span style=\"background-color: hsl(0, 100.00%, 94.54%); opacity: 0.81\" title=\"-0.001\">vaccinatieprogramma</span><span style=\"opacity: 0.80\"> </span><span style=\"background-color: hsl(120, 100.00%, 77.64%); opacity: 0.89\" title=\"0.005\">inenting</span><span style=\"opacity: 0.80\"> </span><span style=\"background-color: hsl(120, 100.00%, 88.21%); opacity: 0.83\" title=\"0.002\">hpv</span><span style=\"opacity: 0.80\"> </span><span style=\"background-color: hsl(120, 100.00%, 84.32%); opacity: 0.85\" title=\"0.003\">virus</span><span style=\"opacity: 0.80\"> </span><span style=\"background-color: hsl(120, 100.00%, 95.00%); opacity: 0.81\" title=\"0.001\">kun</span><span style=\"opacity: 0.80\"> </span><span style=\"background-color: hsl(120, 100.00%, 81.61%); opacity: 0.87\" title=\"0.004\">pijn</span><span style=\"opacity: 0.80\"> </span><span style=\"background-color: hsl(120, 100.00%, 95.48%); opacity: 0.81\" title=\"0.000\">rond</span><span style=\"opacity: 0.80\"> </span><span style=\"background-color: hsl(120, 100.00%, 83.91%); opacity: 0.85\" title=\"0.003\">prikplek</span><span style=\"opacity: 0.80\"> </span><span style=\"background-color: hsl(120, 100.00%, 89.74%); opacity: 0.83\" title=\"0.002\">spierpijn</span><span style=\"opacity: 0.80\"> </span><span style=\"background-color: hsl(120, 100.00%, 87.66%); opacity: 0.84\" title=\"0.002\">bovenarm</span><span style=\"opacity: 0.80\"> </span><span style=\"background-color: hsl(120, 100.00%, 98.28%); opacity: 0.80\" title=\"0.000\">krijgen</span><span style=\"opacity: 0.80\"> </span><span style=\"background-color: hsl(120, 100.00%, 86.63%); opacity: 0.84\" title=\"0.002\">soms</span><span style=\"opacity: 0.80\"> </span><span style=\"background-color: hsl(0, 100.00%, 97.29%); opacity: 0.80\" title=\"-0.000\">week</span><span style=\"opacity: 0.80\"> </span><span style=\"background-color: hsl(120, 100.00%, 94.67%); opacity: 0.81\" title=\"0.001\">duren</span><span style=\"opacity: 0.80\"> </span><span style=\"background-color: hsl(120, 100.00%, 95.00%); opacity: 0.81\" title=\"0.001\">kun</span><span style=\"opacity: 0.80\"> </span><span style=\"background-color: hsl(120, 100.00%, 96.77%); opacity: 0.81\" title=\"0.000\">last</span><span style=\"opacity: 0.80\"> </span><span style=\"background-color: hsl(120, 100.00%, 98.28%); opacity: 0.80\" title=\"0.000\">krijgen</span><span style=\"opacity: 0.80\"> </span><span style=\"background-color: hsl(120, 100.00%, 81.61%); opacity: 0.87\" title=\"0.004\">pijn</span><span style=\"opacity: 0.80\"> </span><span style=\"background-color: hsl(0, 100.00%, 93.41%); opacity: 0.82\" title=\"-0.001\">jeuk</span><span style=\"opacity: 0.80\"> </span><span style=\"background-color: hsl(0, 100.00%, 96.92%); opacity: 0.81\" title=\"-0.000\">rode</span><span style=\"opacity: 0.80\"> </span><span style=\"background-color: hsl(0, 100.00%, 85.27%); opacity: 0.85\" title=\"-0.003\">huid</span><span style=\"opacity: 0.80\"> verdikking </span><span style=\"background-color: hsl(120, 100.00%, 83.91%); opacity: 0.85\" title=\"0.003\">prikplek</span><span style=\"opacity: 0.80\"> </span><span style=\"background-color: hsl(120, 100.00%, 81.08%); opacity: 0.87\" title=\"0.004\">sommige</span><span style=\"opacity: 0.80\"> </span><span style=\"background-color: hsl(120, 100.00%, 80.65%); opacity: 0.87\" title=\"0.004\">meisjes</span><span style=\"opacity: 0.80\"> </span><span style=\"background-color: hsl(120, 100.00%, 98.28%); opacity: 0.80\" title=\"0.000\">krijgen</span><span style=\"opacity: 0.80\"> </span><span style=\"background-color: hsl(0, 100.00%, 93.71%); opacity: 0.81\" title=\"-0.001\">buikpijn</span><span style=\"opacity: 0.80\"> </span><span style=\"background-color: hsl(0, 100.00%, 92.05%); opacity: 0.82\" title=\"-0.001\">misselijkheid</span><span style=\"opacity: 0.80\"> </span><span style=\"background-color: hsl(0, 100.00%, 96.86%); opacity: 0.81\" title=\"-0.000\">moeheid</span><span style=\"opacity: 0.80\"> </span><span style=\"background-color: hsl(0, 100.00%, 92.29%); opacity: 0.82\" title=\"-0.001\">hoofdpijn</span><span style=\"opacity: 0.80\"> </span><span style=\"background-color: hsl(120, 100.00%, 91.42%); opacity: 0.82\" title=\"0.001\">koorts</span><span style=\"opacity: 0.80\"> </span><span style=\"background-color: hsl(0, 100.00%, 92.93%); opacity: 0.82\" title=\"-0.001\">meeste</span><span style=\"opacity: 0.80\"> </span><span style=\"background-color: hsl(0, 100.00%, 76.84%); opacity: 0.89\" title=\"-0.005\">klachten</span><span style=\"opacity: 0.80\"> </span><span style=\"background-color: hsl(0, 100.00%, 92.32%); opacity: 0.82\" title=\"-0.001\">mild</span><span style=\"opacity: 0.80\"> </span><span style=\"background-color: hsl(0, 100.00%, 90.71%); opacity: 0.82\" title=\"-0.001\">gaan</span><span style=\"opacity: 0.80\"> </span><span style=\"background-color: hsl(120, 100.00%, 89.94%); opacity: 0.83\" title=\"0.002\">vanzelf</span><span style=\"opacity: 0.80\"> </span><span style=\"background-color: hsl(0, 100.00%, 84.40%); opacity: 0.85\" title=\"-0.003\">weg</span><span style=\"opacity: 0.80\"> </span><span style=\"background-color: hsl(0, 100.00%, 90.34%); opacity: 0.83\" title=\"-0.001\">nooit</span><span style=\"opacity: 0.80\"> </span><span style=\"background-color: hsl(120, 100.00%, 87.81%); opacity: 0.84\" title=\"0.002\">ernstige</span><span style=\"opacity: 0.80\"> </span><span style=\"background-color: hsl(120, 100.00%, 86.28%); opacity: 0.84\" title=\"0.002\">blijvende</span><span style=\"opacity: 0.80\"> </span><span style=\"background-color: hsl(0, 100.00%, 76.84%); opacity: 0.89\" title=\"-0.005\">klachten</span><span style=\"opacity: 0.80\"> </span><span style=\"background-color: hsl(120, 100.00%, 98.99%); opacity: 0.80\" title=\"0.000\">gemeld</span><span style=\"opacity: 0.80\"> </span><span style=\"background-color: hsl(0, 100.00%, 95.32%); opacity: 0.81\" title=\"-0.001\">veroorzaakt</span><span style=\"opacity: 0.80\"> </span><span style=\"background-color: hsl(0, 100.00%, 81.70%); opacity: 0.87\" title=\"-0.004\">vaccin</span><span style=\"opacity: 0.80\"> </span><span style=\"background-color: hsl(0, 100.00%, 82.17%); opacity: 0.86\" title=\"-0.003\">bekend</span><span style=\"opacity: 0.80\"> </span><span style=\"background-color: hsl(120, 100.00%, 86.34%); opacity: 0.84\" title=\"0.002\">bijwerkingen</span><span style=\"opacity: 0.80\"> </span><span style=\"background-color: hsl(0, 100.00%, 80.95%); opacity: 0.87\" title=\"-0.004\">lange</span><span style=\"opacity: 0.80\"> </span><span style=\"background-color: hsl(0, 100.00%, 78.87%); opacity: 0.88\" title=\"-0.004\">termijn</span><span style=\"opacity: 0.80\"> </span><span style=\"background-color: hsl(120, 100.00%, 87.40%); opacity: 0.84\" title=\"0.002\">bijna</span><span style=\"opacity: 0.80\"> </span><span style=\"background-color: hsl(0, 100.00%, 82.62%); opacity: 0.86\" title=\"-0.003\">10</span><span style=\"opacity: 0.80\"> </span><span style=\"background-color: hsl(0, 100.00%, 98.89%); opacity: 0.80\" title=\"-0.000\">jaar</span><span style=\"opacity: 0.80\"> </span><span style=\"background-color: hsl(0, 100.00%, 94.66%); opacity: 0.81\" title=\"-0.001\">geleden</span><span style=\"opacity: 0.80\"> </span><span style=\"background-color: hsl(120, 100.00%, 89.75%); opacity: 0.83\" title=\"0.002\">jonge</span><span style=\"opacity: 0.80\"> </span><span style=\"background-color: hsl(0, 100.00%, 92.31%); opacity: 0.82\" title=\"-0.001\">vrouwen</span><span style=\"opacity: 0.80\"> </span><span style=\"background-color: hsl(0, 100.00%, 82.39%); opacity: 0.86\" title=\"-0.003\">eerst</span><span style=\"opacity: 0.80\"> </span><span style=\"background-color: hsl(120, 100.00%, 68.95%); opacity: 0.94\" title=\"0.008\">ingeënt</span><span style=\"opacity: 0.80\"> </span><span style=\"background-color: hsl(120, 100.00%, 88.21%); opacity: 0.83\" title=\"0.002\">hpv</span><span style=\"opacity: 0.80\"> </span><span style=\"background-color: hsl(0, 100.00%, 81.70%); opacity: 0.87\" title=\"-0.004\">vaccin</span><span style=\"opacity: 0.80\"> </span><span style=\"background-color: hsl(0, 100.00%, 82.10%); opacity: 0.86\" title=\"-0.003\">gezondheid</span><span style=\"opacity: 0.80\"> </span><span style=\"background-color: hsl(0, 100.00%, 98.69%); opacity: 0.80\" title=\"-0.000\">jaren</span><span style=\"opacity: 0.80\"> </span><span style=\"background-color: hsl(120, 100.00%, 91.61%); opacity: 0.82\" title=\"0.001\">gaten</span><span style=\"opacity: 0.80\"> </span><span style=\"background-color: hsl(0, 100.00%, 96.38%); opacity: 0.81\" title=\"-0.000\">gehouden</span><span style=\"opacity: 0.80\"> </span><span style=\"background-color: hsl(0, 100.00%, 76.84%); opacity: 0.89\" title=\"-0.005\">klachten</span><span style=\"opacity: 0.80\"> </span><span style=\"background-color: hsl(0, 100.00%, 81.70%); opacity: 0.87\" title=\"-0.004\">vaccin</span><span style=\"opacity: 0.80\"> </span><span style=\"background-color: hsl(0, 100.00%, 95.32%); opacity: 0.81\" title=\"-0.001\">veroorzaakt</span><span style=\"opacity: 0.80\"> </span><span style=\"background-color: hsl(120, 100.00%, 96.73%); opacity: 0.81\" title=\"0.000\">verwachten</span><span style=\"opacity: 0.80\"> </span><span style=\"background-color: hsl(0, 100.00%, 80.95%); opacity: 0.87\" title=\"-0.004\">lange</span><span style=\"opacity: 0.80\"> </span><span style=\"background-color: hsl(0, 100.00%, 78.87%); opacity: 0.88\" title=\"-0.004\">termijn</span><span style=\"opacity: 0.80\"> </span><span style=\"background-color: hsl(120, 100.00%, 86.34%); opacity: 0.84\" title=\"0.002\">bijwerkingen</span><span style=\"opacity: 0.80\"> </span><span style=\"background-color: hsl(120, 100.00%, 88.21%); opacity: 0.83\" title=\"0.002\">hpv</span><span style=\"opacity: 0.80\"> </span><span style=\"background-color: hsl(0, 100.00%, 81.70%); opacity: 0.87\" title=\"-0.004\">vaccin</span><span style=\"opacity: 0.80\"> </span><span style=\"background-color: hsl(120, 100.00%, 95.00%); opacity: 0.81\" title=\"0.001\">kun</span><span style=\"opacity: 0.80\"> </span><span style=\"background-color: hsl(120, 100.00%, 73.27%); opacity: 0.91\" title=\"0.006\">prik</span><span style=\"opacity: 0.80\"> </span><span style=\"background-color: hsl(120, 100.00%, 89.40%); opacity: 0.83\" title=\"0.002\">overlijden</span><span style=\"opacity: 0.80\"> </span><span style=\"background-color: hsl(120, 100.00%, 99.37%); opacity: 0.80\" title=\"0.000\">onvruchtbaar</span><span style=\"opacity: 0.80\"> </span><span style=\"background-color: hsl(0, 100.00%, 87.99%); opacity: 0.84\" title=\"-0.002\">internet</span><span style=\"opacity: 0.80\"> </span><span style=\"background-color: hsl(0, 100.00%, 96.08%); opacity: 0.81\" title=\"-0.000\">zoekt</span><span style=\"opacity: 0.80\"> </span><span style=\"background-color: hsl(0, 100.00%, 90.82%); opacity: 0.82\" title=\"-0.001\">kom</span><span style=\"opacity: 0.80\"> </span><span style=\"background-color: hsl(0, 100.00%, 81.61%); opacity: 0.87\" title=\"-0.004\">informatie</span><span style=\"opacity: 0.80\"> </span><span style=\"background-color: hsl(120, 100.00%, 84.89%); opacity: 0.85\" title=\"0.003\">mensen</span><span style=\"opacity: 0.80\"> </span><span style=\"background-color: hsl(0, 100.00%, 87.87%); opacity: 0.84\" title=\"-0.002\">zeggen</span><span style=\"opacity: 0.80\"> </span><span style=\"background-color: hsl(120, 100.00%, 73.27%); opacity: 0.91\" title=\"0.006\">prik</span><span style=\"opacity: 0.80\"> </span><span style=\"background-color: hsl(0, 100.00%, 82.78%); opacity: 0.86\" title=\"-0.003\">kunt</span><span style=\"opacity: 0.80\"> </span><span style=\"background-color: hsl(120, 100.00%, 89.40%); opacity: 0.83\" title=\"0.002\">overlijden</span><span style=\"opacity: 0.80\"> </span><span style=\"background-color: hsl(120, 100.00%, 99.37%); opacity: 0.80\" title=\"0.000\">onvruchtbaar</span><span style=\"opacity: 0.80\"> </span><span style=\"background-color: hsl(0, 100.00%, 81.70%); opacity: 0.87\" title=\"-0.004\">vaccin</span><span style=\"opacity: 0.80\"> </span><span style=\"background-color: hsl(0, 100.00%, 82.37%); opacity: 0.86\" title=\"-0.003\">bevat</span><span style=\"opacity: 0.80\"> </span><span style=\"background-color: hsl(0, 100.00%, 71.33%); opacity: 0.92\" title=\"-0.007\">stoffen</span><span style=\"opacity: 0.80\"> </span><span style=\"background-color: hsl(0, 100.00%, 93.27%); opacity: 0.82\" title=\"-0.001\">invloed</span><span style=\"opacity: 0.80\"> </span><span style=\"background-color: hsl(120, 100.00%, 94.54%); opacity: 0.81\" title=\"0.001\">voortplantingsorganen</span><span style=\"opacity: 0.80\"> </span><span style=\"background-color: hsl(0, 100.00%, 91.97%); opacity: 0.82\" title=\"-0.001\">onvruchtbaarheid</span><span style=\"opacity: 0.80\"> </span><span style=\"background-color: hsl(120, 100.00%, 99.18%); opacity: 0.80\" title=\"0.000\">veroorzaken</span><span style=\"opacity: 0.80\"> </span><span style=\"background-color: hsl(0, 100.00%, 90.34%); opacity: 0.83\" title=\"-0.001\">nooit</span><span style=\"opacity: 0.80\"> </span><span style=\"background-color: hsl(120, 100.00%, 99.12%); opacity: 0.80\" title=\"0.000\">overleden</span><span style=\"opacity: 0.80\"> </span><span style=\"background-color: hsl(120, 100.00%, 88.21%); opacity: 0.83\" title=\"0.002\">hpv</span><span style=\"opacity: 0.80\"> </span><span style=\"background-color: hsl(120, 100.00%, 88.19%); opacity: 0.84\" title=\"0.002\">vaccinatie</span><span style=\"opacity: 0.80\"> </span><span style=\"background-color: hsl(0, 100.00%, 81.70%); opacity: 0.87\" title=\"-0.004\">vaccin</span><span style=\"opacity: 0.80\"> </span><span style=\"background-color: hsl(0, 100.00%, 96.12%); opacity: 0.81\" title=\"-0.000\">net</span><span style=\"opacity: 0.80\"> </span><span style=\"background-color: hsl(0, 100.00%, 88.87%); opacity: 0.83\" title=\"-0.002\">medicijn</span><span style=\"opacity: 0.80\"> </span><span style=\"background-color: hsl(0, 100.00%, 93.78%); opacity: 0.81\" title=\"-0.001\">des</span><span style=\"opacity: 0.80\"> diëthylstilbestrol </span><span style=\"background-color: hsl(0, 100.00%, 91.26%); opacity: 0.82\" title=\"-0.001\">kunstmatig</span><span style=\"opacity: 0.80\"> </span><span style=\"background-color: hsl(0, 100.00%, 96.41%); opacity: 0.81\" title=\"-0.000\">vrouwelijk</span><span style=\"opacity: 0.80\"> </span><span style=\"background-color: hsl(0, 100.00%, 94.48%); opacity: 0.81\" title=\"-0.001\">hormoon</span><span style=\"opacity: 0.80\"> gehandicapte </span><span style=\"background-color: hsl(120, 100.00%, 84.54%); opacity: 0.85\" title=\"0.003\">kinderen</span><span style=\"opacity: 0.80\"> </span><span style=\"background-color: hsl(120, 100.00%, 93.97%); opacity: 0.81\" title=\"0.001\">zorgen</span><span style=\"opacity: 0.80\"> </span><span style=\"background-color: hsl(120, 100.00%, 87.11%); opacity: 0.84\" title=\"0.002\">nee</span><span style=\"opacity: 0.80\"> </span><span style=\"background-color: hsl(0, 100.00%, 93.78%); opacity: 0.81\" title=\"-0.001\">des</span><span style=\"opacity: 0.80\"> </span><span style=\"background-color: hsl(0, 100.00%, 88.87%); opacity: 0.83\" title=\"-0.002\">medicijn</span><span style=\"opacity: 0.80\"> vroegtijdige </span><span style=\"background-color: hsl(0, 100.00%, 98.41%); opacity: 0.80\" title=\"-0.000\">bevalling</span><span style=\"opacity: 0.80\"> </span><span style=\"background-color: hsl(120, 100.00%, 83.23%); opacity: 0.86\" title=\"0.003\">voorkomen</span><span style=\"opacity: 0.80\"> </span><span style=\"background-color: hsl(0, 100.00%, 94.16%); opacity: 0.81\" title=\"-0.001\">tijdens</span><span style=\"opacity: 0.80\"> </span><span style=\"background-color: hsl(120, 100.00%, 89.94%); opacity: 0.83\" title=\"0.002\">zwangerschap</span><span style=\"opacity: 0.80\"> </span><span style=\"background-color: hsl(120, 100.00%, 98.94%); opacity: 0.80\" title=\"0.000\">gegeven</span><span style=\"opacity: 0.80\"> </span><span style=\"background-color: hsl(120, 100.00%, 88.21%); opacity: 0.83\" title=\"0.002\">hpv</span><span style=\"opacity: 0.80\"> </span><span style=\"background-color: hsl(0, 100.00%, 81.70%); opacity: 0.87\" title=\"-0.004\">vaccin</span><span style=\"opacity: 0.80\"> </span><span style=\"background-color: hsl(120, 100.00%, 91.13%); opacity: 0.82\" title=\"0.001\">mag</span><span style=\"opacity: 0.80\"> </span><span style=\"background-color: hsl(120, 100.00%, 98.94%); opacity: 0.80\" title=\"0.000\">gegeven</span><span style=\"opacity: 0.80\"> </span><span style=\"background-color: hsl(0, 100.00%, 94.16%); opacity: 0.81\" title=\"-0.001\">tijdens</span><span style=\"opacity: 0.80\"> </span><span style=\"background-color: hsl(120, 100.00%, 89.94%); opacity: 0.83\" title=\"0.002\">zwangerschap</span><span style=\"opacity: 0.80\"> </span><span style=\"background-color: hsl(120, 100.00%, 88.91%); opacity: 0.83\" title=\"0.002\">bovendien</span><span style=\"opacity: 0.80\"> </span><span style=\"background-color: hsl(0, 100.00%, 95.97%); opacity: 0.81\" title=\"-0.000\">sinds</span><span style=\"opacity: 0.80\"> </span><span style=\"background-color: hsl(0, 100.00%, 98.69%); opacity: 0.80\" title=\"-0.000\">jaren</span><span style=\"opacity: 0.80\"> </span><span style=\"background-color: hsl(120, 100.00%, 87.39%); opacity: 0.84\" title=\"0.002\">60</span><span style=\"opacity: 0.80\"> </span><span style=\"background-color: hsl(0, 100.00%, 93.78%); opacity: 0.81\" title=\"-0.001\">des</span><span style=\"opacity: 0.80\"> </span><span style=\"background-color: hsl(0, 100.00%, 99.01%); opacity: 0.80\" title=\"-0.000\">gebruikt</span><span style=\"opacity: 0.80\"> </span><span style=\"background-color: hsl(120, 100.00%, 90.54%); opacity: 0.83\" title=\"0.001\">strengere</span><span style=\"opacity: 0.80\"> </span><span style=\"background-color: hsl(120, 100.00%, 82.93%); opacity: 0.86\" title=\"0.003\">regels</span><span style=\"opacity: 0.80\"> </span><span style=\"background-color: hsl(0, 100.00%, 79.39%); opacity: 0.88\" title=\"-0.004\">voordat</span><span style=\"opacity: 0.80\"> </span><span style=\"background-color: hsl(0, 100.00%, 90.79%); opacity: 0.82\" title=\"-0.001\">medicijnen</span><span style=\"opacity: 0.80\"> </span><span style=\"background-color: hsl(0, 100.00%, 76.17%); opacity: 0.90\" title=\"-0.005\">vaccins</span><span style=\"opacity: 0.80\"> </span><span style=\"background-color: hsl(0, 100.00%, 99.01%); opacity: 0.80\" title=\"-0.000\">gebruikt</span><span style=\"opacity: 0.80\"> </span><span style=\"background-color: hsl(120, 100.00%, 92.27%); opacity: 0.82\" title=\"0.001\">mogen</span><span style=\"opacity: 0.80\"> </span><span style=\"background-color: hsl(0, 100.00%, 91.19%); opacity: 0.82\" title=\"-0.001\">houdt</span><span style=\"opacity: 0.80\"> </span><span style=\"background-color: hsl(120, 100.00%, 86.34%); opacity: 0.84\" title=\"0.002\">bijwerkingen</span><span style=\"opacity: 0.80\"> </span><span style=\"background-color: hsl(120, 100.00%, 91.61%); opacity: 0.82\" title=\"0.001\">gaten</span><span style=\"opacity: 0.80\"> </span><span style=\"background-color: hsl(0, 100.00%, 82.31%); opacity: 0.86\" title=\"-0.003\">2011</span><span style=\"opacity: 0.80\"> </span><span style=\"background-color: hsl(120, 100.00%, 98.71%); opacity: 0.80\" title=\"0.000\">hield</span><span style=\"opacity: 0.80\"> </span><span style=\"background-color: hsl(0, 100.00%, 95.80%); opacity: 0.81\" title=\"-0.000\">rivm</span><span style=\"opacity: 0.80\"> </span><span style=\"background-color: hsl(120, 100.00%, 84.39%); opacity: 0.85\" title=\"0.003\">rijksinstituut</span><span style=\"opacity: 0.80\"> </span><span style=\"background-color: hsl(120, 100.00%, 79.51%); opacity: 0.88\" title=\"0.004\">volksgezondheid</span><span style=\"opacity: 0.80\"> </span><span style=\"background-color: hsl(120, 100.00%, 91.58%); opacity: 0.82\" title=\"0.001\">milieu</span><span style=\"opacity: 0.80\"> </span><span style=\"background-color: hsl(120, 100.00%, 86.34%); opacity: 0.84\" title=\"0.002\">bijwerkingen</span><span style=\"opacity: 0.80\"> </span><span style=\"background-color: hsl(120, 100.00%, 66.70%); opacity: 0.95\" title=\"0.008\">rijksvaccinatieprogramma</span><span style=\"opacity: 0.80\"> </span><span style=\"background-color: hsl(0, 100.00%, 95.97%); opacity: 0.81\" title=\"-0.000\">sinds</span><span style=\"opacity: 0.80\"> </span><span style=\"background-color: hsl(0, 100.00%, 82.31%); opacity: 0.86\" title=\"-0.003\">2011</span><span style=\"opacity: 0.80\"> </span><span style=\"background-color: hsl(0, 100.00%, 91.19%); opacity: 0.82\" title=\"-0.001\">houdt</span><span style=\"opacity: 0.80\"> </span><span style=\"background-color: hsl(120, 100.00%, 95.27%); opacity: 0.81\" title=\"0.001\">lareb</span><span style=\"opacity: 0.80\"> </span><span style=\"background-color: hsl(0, 100.00%, 86.32%); opacity: 0.84\" title=\"-0.002\">netherlands</span><span style=\"opacity: 0.80\"> pharmacovigilance </span><span style=\"background-color: hsl(0, 100.00%, 94.28%); opacity: 0.81\" title=\"-0.001\">centre</span><span style=\"opacity: 0.80\"> </span><span style=\"background-color: hsl(0, 100.00%, 89.03%); opacity: 0.83\" title=\"-0.002\">nederlands</span><span style=\"opacity: 0.80\"> </span><span style=\"background-color: hsl(120, 100.00%, 86.34%); opacity: 0.84\" title=\"0.002\">bijwerkingen</span><span style=\"opacity: 0.80\"> </span><span style=\"background-color: hsl(0, 100.00%, 86.50%); opacity: 0.84\" title=\"-0.002\">instituut</span><span style=\"opacity: 0.80\"> </span><span style=\"background-color: hsl(120, 100.00%, 86.34%); opacity: 0.84\" title=\"0.002\">bijwerkingen</span><span style=\"opacity: 0.80\"> </span><span style=\"background-color: hsl(0, 100.00%, 82.78%); opacity: 0.86\" title=\"-0.003\">kunt</span><span style=\"opacity: 0.80\"> </span><span style=\"background-color: hsl(120, 100.00%, 86.34%); opacity: 0.84\" title=\"0.002\">bijwerkingen</span><span style=\"opacity: 0.80\"> </span><span style=\"background-color: hsl(0, 100.00%, 85.95%); opacity: 0.84\" title=\"-0.002\">vaccinaties</span><span style=\"opacity: 0.80\"> </span><span style=\"background-color: hsl(0, 100.00%, 93.33%); opacity: 0.82\" title=\"-0.001\">melden</span><span style=\"opacity: 0.80\"> </span><span style=\"background-color: hsl(120, 100.00%, 95.27%); opacity: 0.81\" title=\"0.001\">lareb</span><span style=\"opacity: 0.80\"> </span><span style=\"background-color: hsl(120, 100.00%, 87.85%); opacity: 0.84\" title=\"0.002\">krijgt</span><span style=\"opacity: 0.80\"> </span><span style=\"background-color: hsl(0, 100.00%, 95.47%); opacity: 0.81\" title=\"-0.000\">uitnodiging</span><span style=\"opacity: 0.80\"> </span><span style=\"background-color: hsl(120, 100.00%, 88.21%); opacity: 0.83\" title=\"0.002\">hpv</span><span style=\"opacity: 0.80\"> </span><span style=\"background-color: hsl(120, 100.00%, 77.64%); opacity: 0.89\" title=\"0.005\">inenting</span><span style=\"opacity: 0.80\"> </span><span style=\"background-color: hsl(120, 100.00%, 90.96%); opacity: 0.82\" title=\"0.001\">minister</span><span style=\"opacity: 0.80\"> </span><span style=\"background-color: hsl(120, 100.00%, 79.51%); opacity: 0.88\" title=\"0.004\">volksgezondheid</span><span style=\"opacity: 0.80\"> </span><span style=\"background-color: hsl(0, 100.00%, 93.30%); opacity: 0.82\" title=\"-0.001\">wetenschap</span><span style=\"opacity: 0.80\"> </span><span style=\"background-color: hsl(120, 100.00%, 82.07%); opacity: 0.86\" title=\"0.003\">sport</span><span style=\"opacity: 0.80\"> </span><span style=\"background-color: hsl(120, 100.00%, 77.64%); opacity: 0.89\" title=\"0.005\">inenting</span><span style=\"opacity: 0.80\"> </span><span style=\"background-color: hsl(120, 100.00%, 88.49%); opacity: 0.83\" title=\"0.002\">baarmoederhalskanker</span><span style=\"opacity: 0.80\"> </span><span style=\"background-color: hsl(0, 100.00%, 99.15%); opacity: 0.80\" title=\"-0.000\">opgenomen</span><span style=\"opacity: 0.80\"> </span><span style=\"background-color: hsl(120, 100.00%, 66.70%); opacity: 0.95\" title=\"0.008\">rijksvaccinatieprogramma</span><span style=\"opacity: 0.80\"> </span><span style=\"background-color: hsl(120, 100.00%, 80.65%); opacity: 0.87\" title=\"0.004\">meisjes</span><span style=\"opacity: 0.80\"> </span><span style=\"background-color: hsl(0, 100.00%, 94.36%); opacity: 0.81\" title=\"-0.001\">1997</span><span style=\"opacity: 0.80\"> </span><span style=\"background-color: hsl(0, 100.00%, 98.69%); opacity: 0.80\" title=\"-0.000\">jaren</span><span style=\"opacity: 0.80\"> </span><span style=\"background-color: hsl(0, 100.00%, 87.01%); opacity: 0.84\" title=\"-0.002\">daarna</span><span style=\"opacity: 0.80\"> </span><span style=\"background-color: hsl(0, 100.00%, 89.08%); opacity: 0.83\" title=\"-0.002\">geboren</span><span style=\"opacity: 0.80\"> </span><span style=\"background-color: hsl(0, 100.00%, 89.75%); opacity: 0.83\" title=\"-0.002\">deed</span><span style=\"opacity: 0.80\"> </span><span style=\"background-color: hsl(0, 100.00%, 99.12%); opacity: 0.80\" title=\"-0.000\">advies</span><span style=\"opacity: 0.80\"> </span><span style=\"background-color: hsl(120, 100.00%, 82.55%); opacity: 0.86\" title=\"0.003\">gezondheidsraad</span><span style=\"opacity: 0.80\"> </span><span style=\"background-color: hsl(120, 100.00%, 92.03%); opacity: 0.82\" title=\"0.001\">alle</span><span style=\"opacity: 0.80\"> </span><span style=\"background-color: hsl(120, 100.00%, 80.65%); opacity: 0.87\" title=\"0.004\">meisjes</span><span style=\"opacity: 0.80\"> </span><span style=\"background-color: hsl(120, 100.00%, 98.28%); opacity: 0.80\" title=\"0.000\">krijgen</span><span style=\"opacity: 0.80\"> </span><span style=\"background-color: hsl(0, 100.00%, 95.47%); opacity: 0.81\" title=\"-0.000\">uitnodiging</span><span style=\"opacity: 0.80\"> </span><span style=\"background-color: hsl(120, 100.00%, 77.64%); opacity: 0.89\" title=\"0.005\">inenting</span><span style=\"opacity: 0.80\"> </span><span style=\"background-color: hsl(0, 100.00%, 98.89%); opacity: 0.80\" title=\"-0.000\">jaar</span><span style=\"opacity: 0.80\"> </span><span style=\"background-color: hsl(0, 100.00%, 94.25%); opacity: 0.81\" title=\"-0.001\">13</span><span style=\"opacity: 0.80\"> </span><span style=\"background-color: hsl(0, 100.00%, 98.89%); opacity: 0.80\" title=\"-0.000\">jaar</span><span style=\"opacity: 0.80\"> </span><span style=\"background-color: hsl(0, 100.00%, 92.62%); opacity: 0.82\" title=\"-0.001\">oud</span><span style=\"opacity: 0.80\"> </span><span style=\"background-color: hsl(0, 100.00%, 95.47%); opacity: 0.81\" title=\"-0.000\">uitnodiging</span><span style=\"opacity: 0.80\"> </span><span style=\"background-color: hsl(0, 100.00%, 90.56%); opacity: 0.83\" title=\"-0.001\">staat</span><span style=\"opacity: 0.80\"> </span><span style=\"background-color: hsl(0, 100.00%, 88.50%); opacity: 0.83\" title=\"-0.002\">precies</span><span style=\"opacity: 0.80\"> </span><span style=\"background-color: hsl(0, 100.00%, 96.64%); opacity: 0.81\" title=\"-0.000\">waar</span><span style=\"opacity: 0.80\"> </span><span style=\"background-color: hsl(120, 100.00%, 89.44%); opacity: 0.83\" title=\"0.002\">terecht</span><span style=\"opacity: 0.80\"> </span><span style=\"background-color: hsl(0, 100.00%, 82.78%); opacity: 0.86\" title=\"-0.003\">kunt</span><span style=\"opacity: 0.80\"> </span><span style=\"background-color: hsl(0, 100.00%, 82.78%); opacity: 0.86\" title=\"-0.003\">kunt</span><span style=\"opacity: 0.80\"> </span><span style=\"background-color: hsl(0, 100.00%, 96.85%); opacity: 0.81\" title=\"-0.000\">bellen</span><span style=\"opacity: 0.80\"> </span><span style=\"background-color: hsl(0, 100.00%, 81.61%); opacity: 0.87\" title=\"-0.004\">informatie</span><span style=\"opacity: 0.80\"> </span><span style=\"background-color: hsl(120, 100.00%, 77.64%); opacity: 0.89\" title=\"0.005\">inenting</span><span style=\"opacity: 0.80\"> </span><span style=\"background-color: hsl(120, 100.00%, 88.72%); opacity: 0.83\" title=\"0.002\">gratis</span><span style=\"opacity: 0.80\"> </span><span style=\"background-color: hsl(120, 100.00%, 86.25%); opacity: 0.84\" title=\"0.002\">verplicht</span><span style=\"opacity: 0.80\"> </span><span style=\"background-color: hsl(120, 100.00%, 73.27%); opacity: 0.91\" title=\"0.006\">prik</span><span style=\"opacity: 0.80\"> </span><span style=\"background-color: hsl(120, 100.00%, 91.13%); opacity: 0.82\" title=\"0.001\">halen</span><span style=\"opacity: 0.80\"> </span><span style=\"background-color: hsl(0, 100.00%, 94.47%); opacity: 0.81\" title=\"-0.001\">dag</span><span style=\"opacity: 0.80\"> </span><span style=\"background-color: hsl(120, 100.00%, 95.38%); opacity: 0.81\" title=\"0.001\">uitgenodigd</span><span style=\"opacity: 0.80\"> </span><span style=\"background-color: hsl(0, 100.00%, 95.47%); opacity: 0.81\" title=\"-0.000\">uitnodiging</span><span style=\"opacity: 0.80\"> </span><span style=\"background-color: hsl(120, 100.00%, 96.52%); opacity: 0.81\" title=\"0.000\">tijdstippen</span><span style=\"opacity: 0.80\"> </span><span style=\"background-color: hsl(0, 100.00%, 86.13%); opacity: 0.84\" title=\"-0.002\">staan</span><span style=\"opacity: 0.80\"> </span><span style=\"background-color: hsl(120, 100.00%, 95.00%); opacity: 0.81\" title=\"0.001\">kun</span><span style=\"opacity: 0.80\"> </span><span style=\"background-color: hsl(120, 100.00%, 90.10%); opacity: 0.83\" title=\"0.001\">meestal</span><span style=\"opacity: 0.80\"> </span><span style=\"background-color: hsl(120, 100.00%, 95.98%); opacity: 0.81\" title=\"0.000\">gewoon</span><span style=\"opacity: 0.80\"> </span><span style=\"background-color: hsl(0, 100.00%, 96.73%); opacity: 0.81\" title=\"-0.000\">tijdstip</span><span style=\"opacity: 0.80\"> </span><span style=\"background-color: hsl(0, 100.00%, 89.31%); opacity: 0.83\" title=\"-0.002\">komen</span><span style=\"opacity: 0.80\"> </span><span style=\"background-color: hsl(0, 100.00%, 90.56%); opacity: 0.83\" title=\"-0.001\">staat</span><span style=\"opacity: 0.80\"> </span><span style=\"background-color: hsl(0, 100.00%, 95.47%); opacity: 0.81\" title=\"-0.000\">uitnodiging</span><span style=\"opacity: 0.80\"> </span><span style=\"background-color: hsl(0, 100.00%, 95.53%); opacity: 0.81\" title=\"-0.000\">vermeld</span><span style=\"opacity: 0.80\"> </span><span style=\"background-color: hsl(120, 100.00%, 98.11%); opacity: 0.80\" title=\"0.000\">hoef</span><span style=\"opacity: 0.80\"> </span><span style=\"background-color: hsl(120, 100.00%, 89.76%); opacity: 0.83\" title=\"0.002\">voren</span><span style=\"opacity: 0.80\"> </span><span style=\"background-color: hsl(0, 100.00%, 75.52%); opacity: 0.90\" title=\"-0.005\">geven</span><span style=\"opacity: 0.80\"> </span><span style=\"background-color: hsl(120, 100.00%, 90.02%); opacity: 0.83\" title=\"0.002\">vragen</span><span style=\"opacity: 0.80\"> </span><span style=\"background-color: hsl(0, 100.00%, 96.73%); opacity: 0.81\" title=\"-0.000\">tijdstip</span><span style=\"opacity: 0.80\"> </span><span style=\"background-color: hsl(0, 100.00%, 94.47%); opacity: 0.81\" title=\"-0.001\">dag</span><span style=\"opacity: 0.80\"> </span><span style=\"background-color: hsl(120, 100.00%, 95.38%); opacity: 0.81\" title=\"0.001\">uitgenodigd</span><span style=\"opacity: 0.80\"> </span><span style=\"background-color: hsl(0, 100.00%, 90.77%); opacity: 0.82\" title=\"-0.001\">bent</span><span style=\"opacity: 0.80\"> </span><span style=\"background-color: hsl(120, 100.00%, 73.27%); opacity: 0.91\" title=\"0.006\">prik</span><span style=\"opacity: 0.80\"> </span><span style=\"background-color: hsl(120, 100.00%, 91.13%); opacity: 0.82\" title=\"0.001\">halen</span><span style=\"opacity: 0.80\"> </span><span style=\"background-color: hsl(120, 100.00%, 95.00%); opacity: 0.81\" title=\"0.001\">kun</span><span style=\"opacity: 0.80\"> </span><span style=\"background-color: hsl(120, 100.00%, 94.35%); opacity: 0.81\" title=\"0.001\">contact</span><span style=\"opacity: 0.80\"> </span><span style=\"background-color: hsl(0, 100.00%, 94.50%); opacity: 0.81\" title=\"-0.001\">opnemen</span><span style=\"opacity: 0.80\"> </span><span style=\"background-color: hsl(120, 100.00%, 70.52%); opacity: 0.93\" title=\"0.007\">ggd</span><span style=\"opacity: 0.80\"> </span><span style=\"background-color: hsl(120, 100.00%, 80.74%); opacity: 0.87\" title=\"0.004\">centrum</span><span style=\"opacity: 0.80\"> </span><span style=\"background-color: hsl(120, 100.00%, 84.60%); opacity: 0.85\" title=\"0.003\">jeugd</span><span style=\"opacity: 0.80\"> </span><span style=\"background-color: hsl(120, 100.00%, 72.83%); opacity: 0.92\" title=\"0.006\">gezin</span><span style=\"opacity: 0.80\"> </span><span style=\"background-color: hsl(120, 100.00%, 89.19%); opacity: 0.83\" title=\"0.002\">contactgegevens</span><span style=\"opacity: 0.80\"> </span><span style=\"background-color: hsl(120, 100.00%, 95.00%); opacity: 0.81\" title=\"0.001\">kun</span><span style=\"opacity: 0.80\"> </span><span style=\"background-color: hsl(0, 100.00%, 90.15%); opacity: 0.83\" title=\"-0.001\">vinden</span><span style=\"opacity: 0.80\"> uitnodigingsbrief </span><span style=\"background-color: hsl(0, 100.00%, 90.15%); opacity: 0.83\" title=\"-0.001\">vinden</span><span style=\"opacity: 0.80\"> </span><span style=\"background-color: hsl(0, 100.00%, 89.35%); opacity: 0.83\" title=\"-0.002\">via</span><span style=\"opacity: 0.80\"> </span><span style=\"background-color: hsl(0, 100.00%, 60.75%); opacity: 0.99\" title=\"-0.011\">www</span><span style=\"opacity: 0.80\"> </span><span style=\"background-color: hsl(120, 100.00%, 70.52%); opacity: 0.93\" title=\"0.007\">ggd</span><span style=\"opacity: 0.80\"> </span><span style=\"background-color: hsl(0, 100.00%, 74.16%); opacity: 0.91\" title=\"-0.006\">nl</span><span style=\"opacity: 0.80\"> </span><span style=\"background-color: hsl(120, 100.00%, 94.35%); opacity: 0.81\" title=\"0.001\">contact</span><span style=\"opacity: 0.80\"> </span><span style=\"background-color: hsl(0, 100.00%, 97.57%); opacity: 0.80\" title=\"-0.000\">buurt</span>\n",
       "    </p>\n",
       "\n",
       "\n",
       "    \n",
       "\n",
       "    \n",
       "\n",
       "    \n",
       "\n",
       "    \n",
       "\n",
       "\n",
       "    \n",
       "\n",
       "    \n",
       "\n",
       "    \n",
       "\n",
       "    \n",
       "\n",
       "    \n",
       "\n",
       "    \n",
       "\n",
       "\n",
       "    \n",
       "\n",
       "    \n",
       "\n",
       "    \n",
       "\n",
       "    \n",
       "\n",
       "    \n",
       "\n",
       "    \n",
       "\n",
       "\n",
       "\n"
      ],
      "text/plain": [
       "<IPython.core.display.HTML object>"
      ]
     },
     "execution_count": 15,
     "metadata": {},
     "output_type": "execute_result"
    }
   ],
   "source": [
    "eli5.show_prediction(clf, hpv_test[2][0],vec=vec)"
   ]
  },
  {
   "cell_type": "markdown",
   "metadata": {},
   "source": [
    "## Out of sample prediction"
   ]
  },
  {
   "cell_type": "code",
   "execution_count": 16,
   "metadata": {},
   "outputs": [
    {
     "name": "stdout",
     "output_type": "stream",
     "text": [
      "Accuracy: 0.7777777777777778 \n",
      "Recall (misinfo): 0.3787878787878788 \n",
      "Precision (misinfo): 0.8928571428571429 \n",
      "Recall (legitimate): 0.9772727272727273 \n",
      "Precision (legitimate)  0.7588235294117647 \n",
      "Confusion Matrix: \n",
      " [[129   3]\n",
      " [ 41  25]]\n",
      "ROC AUC:\n",
      "0.8864784205693297\n"
     ]
    },
    {
     "data": {
      "image/png": "[encoded data removed]",
      "text/plain": [
       "<Figure size 432x288 with 1 Axes>"
      ]
     },
     "metadata": {},
     "output_type": "display_data"
    }
   ],
   "source": [
    "\n",
    "oos_predictions = pipe.predict([r[0] for r in hpv_test])\n",
    "oos_predicted_probabilities = pipe.predict_proba([r[0] for r in hpv_test])\n",
    "\n",
    "\n",
    "performance(oos_predictions, [e[1] for e in hpv_test])\n",
    "roc_curve(oos_predicted_probabilities, [e[1] for e in hpv_test])"
   ]
  },
  {
   "cell_type": "markdown",
   "metadata": {},
   "source": [
    "... but maybe here it's actually better if we used the adapted probabilities"
   ]
  },
  {
   "cell_type": "code",
   "execution_count": 17,
   "metadata": {},
   "outputs": [
    {
     "name": "stdout",
     "output_type": "stream",
     "text": [
      "\n",
      "\n",
      "WITH THRESHOLD OF 1.5476699963837433\n",
      "Accuracy: 0.8181818181818182 \n",
      "Recall (misinfo): 0.6515151515151515 \n",
      "Precision (misinfo): 0.7678571428571429 \n",
      "Recall (legitimate): 0.9015151515151515 \n",
      "Precision (legitimate)  0.8380281690140845 \n",
      "Confusion Matrix: \n",
      " [[119  13]\n",
      " [ 23  43]]\n"
     ]
    }
   ],
   "source": [
    "oos_predictions_new = np.where(oos_predicted_probabilities[:,1] > optimal_threshold, 1, 0)\n",
    "\n",
    "print('\\n\\nWITH THRESHOLD OF {}'.format(np.exp(optimal_threshold)))\n",
    "performance(oos_predictions_new, [e[1] for e in hpv_test])"
   ]
  }
 ],
 "metadata": {
  "kernelspec": {
   "display_name": "Python 3",
   "language": "python",
   "name": "python3"
  },
  "language_info": {
   "codemirror_mode": {
    "name": "ipython",
    "version": 3
   },
   "file_extension": ".py",
   "mimetype": "text/x-python",
   "name": "python",
   "nbconvert_exporter": "python",
   "pygments_lexer": "ipython3",
   "version": "3.6.9"
  }
 },
 "nbformat": 4,
 "nbformat_minor": 2
}
