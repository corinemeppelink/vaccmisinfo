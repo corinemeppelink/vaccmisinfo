{
 "cells": [
  {
   "cell_type": "markdown",
   "metadata": {},
   "source": [
    "# BLa BLA BLA\n",
    "\n",
    "... ... "
   ]
  },
  {
   "cell_type": "code",
   "execution_count": 1,
   "metadata": {},
   "outputs": [],
   "source": [
    "from sklearn.naive_bayes import MultinomialNB\n",
    "from sklearn.linear_model import LogisticRegression\n",
    "from sklearn.feature_extraction.text import CountVectorizer, TfidfVectorizer\n",
    "from sklearn import metrics\n",
    "from sklearn.model_selection import train_test_split\n",
    "from sklearn.externals import joblib\n",
    "import string\n",
    "from nltk.stem import WordNetLemmatizer\n",
    "from nltk.corpus import stopwords\n",
    "from math import log, sqrt\n",
    "import matplotlib.pyplot as plt\n",
    "import pandas as pd\n",
    "import pickle as pk\n",
    "import numpy as np\n",
    "import glob\n",
    "import os\n",
    "from collections import Counter\n",
    "from pandas import DataFrame, read_csv\n",
    "import matplotlib.pyplot as plt\n",
    "from stop_words import get_stop_words\n",
    "from string import punctuation\n",
    "\n",
    "STOPWORDS = get_stop_words('dutch')"
   ]
  },
  {
   "cell_type": "code",
   "execution_count": 2,
   "metadata": {},
   "outputs": [],
   "source": [
    "def preprocess(doc):\n",
    "    if type(doc) is str:\n",
    "        doc = doc.lower()\n",
    "        doc = doc.translate(str.maketrans({key: \" \" for key in string.punctuation}))\n",
    "        doc = \" \".join([w for w in doc.split() if w not in STOPWORDS])\n",
    "        return doc\n",
    "    else:\n",
    "        print('Received non-string input, returning empty string')\n",
    "        return ''"
   ]
  },
  {
   "cell_type": "code",
   "execution_count": 4,
   "metadata": {},
   "outputs": [],
   "source": [
    "def get_traintest(df, test_size=.30):\n",
    "    '''takes dataframe, selects relevant part, preprocesses text and returns train, test data lists with \n",
    "    (text, label) tuples'''\n",
    "    rows = df[['Platte tekst (zonder opmaak)','Misinfo Nee(1) Ja(0)']].dropna().to_records(index=False)\n",
    "    rowsclean = []\n",
    "    for e in rows:\n",
    "        try:\n",
    "            rowsclean.append((preprocess(e[0]), int(e[1])))\n",
    "        except ValueError:\n",
    "            pass\n",
    "    train, test = train_test_split(rowsclean, test_size=test_size)\n",
    "    return train, test"
   ]
  },
  {
   "cell_type": "code",
   "execution_count": 5,
   "metadata": {},
   "outputs": [],
   "source": [
    "hpv = pd.read_csv('hpv.csv')\n",
    "childhood = pd.read_csv('childhood.csv')"
   ]
  },
  {
   "cell_type": "code",
   "execution_count": 6,
   "metadata": {},
   "outputs": [
    {
     "name": "stdout",
     "output_type": "stream",
     "text": [
      "Obtained 138 train and 60 test tuples for HPV\n",
      "Obtained 316 train and 136 test tuples for childhood vaccination\n"
     ]
    }
   ],
   "source": [
    "hpv_train, hpv_test = get_traintest(hpv)\n",
    "print(\"Obtained {} train and {} test tuples for HPV\".format(len(hpv_train), len(hpv_test)))\n",
    "\n",
    "childhood_train, childhood_test = get_traintest(childhood)\n",
    "print(\"Obtained {} train and {} test tuples for childhood vaccination\".format(len(childhood_train), len(childhood_test)))\n",
    "    "
   ]
  },
  {
   "cell_type": "code",
   "execution_count": 19,
   "metadata": {},
   "outputs": [],
   "source": [
    "def ml(train, test):\n",
    "    myvec = TfidfVectorizer()\n",
    "    train_features = myvec.fit_transform([e[0] for e in train])\n",
    "    test_features = myvec.transform([e[0] for e in test])\n",
    "    model  = LogisticRegression()\n",
    "    model.fit(train_features, [e[1] for e in train])\n",
    "    predictions = model.predict(test_features)\n",
    "    predicted_probabilities = model.predict_proba(test_features)\n",
    "    return predictions, predicted_probabilities"
   ]
  },
  {
   "cell_type": "code",
   "execution_count": 8,
   "metadata": {},
   "outputs": [],
   "source": [
    "def performance(predictions, actual_scores):\n",
    "    accuracy=metrics.accuracy_score(actual_scores,predictions,normalize=True)\n",
    "    recall=metrics.recall_score(actual_scores,predictions,pos_label=1,labels=['0','1'])\n",
    "    recall_incl=metrics.recall_score(actual_scores,predictions,pos_label=0,labels=['0','1'])\n",
    "    precision=metrics.precision_score(actual_scores,predictions,pos_label=1,labels=['0','1'])\n",
    "    precision_incl=metrics.precision_score(actual_scores,predictions,pos_label=0,labels=['1','0'])\n",
    "    confusionmatrix=metrics.confusion_matrix(actual_scores,predictions)\n",
    "    print('Accuracy:',accuracy,\n",
    "          '\\nRecall:',recall,\n",
    "          '\\nNote: Recall if we are interested in predicting inclusion of entries:',recall_incl,\n",
    "          '\\nPrecision:',precision,\n",
    "          '\\nNote: Precision if we are interested in predicting inclusion of entries:',precision_incl,\n",
    "          '\\nConfusion Matrix:','\\n',confusionmatrix)\n"
   ]
  },
  {
   "cell_type": "code",
   "execution_count": 21,
   "metadata": {},
   "outputs": [],
   "source": [
    "def roc_curve(predicted_probabilities, actual_scores):\n",
    "    fpr, tpr, thresholds = metrics.roc_curve(actual_scores, predicted_probabilities[:,1],pos_label=1)\n",
    "    roc_auc = metrics.auc(fpr, tpr)\n",
    "    print(\"ROC AUC:\\n{}\".format(roc_auc))\n",
    "    #%%\n",
    "    plt.title('Receiver Operating Characteristic')\n",
    "    plt.plot(fpr, tpr, 'b', label = 'AUC = %0.2f' % roc_auc)\n",
    "    plt.legend(loc = 'lower right')\n",
    "    plt.plot([0, 1], [0, 1],'r--')\n",
    "    plt.xlim([0, 1])\n",
    "    plt.ylim([0, 1])\n",
    "    plt.ylabel('True Positive Rate')\n",
    "    plt.xlabel('False Positive Rate')\n",
    "    plt.show()\n"
   ]
  },
  {
   "cell_type": "code",
   "execution_count": 22,
   "metadata": {},
   "outputs": [
    {
     "name": "stdout",
     "output_type": "stream",
     "text": [
      "Accuracy: 0.9411764705882353 \n",
      "Recall: 0.9887640449438202 \n",
      "Note: Recall if we are interested in predicting inclusion of entries: 0.851063829787234 \n",
      "Precision: 0.9263157894736842 \n",
      "Note: Precision if we are interested in predicting inclusion of entries: 0.975609756097561 \n",
      "Confusion Matrix: \n",
      " [[40  7]\n",
      " [ 1 88]]\n",
      "ROC AUC:\n",
      "0.980635907243605\n"
     ]
    },
    {
     "name": "stderr",
     "output_type": "stream",
     "text": [
      "/home/damian/.local/lib/python3.6/site-packages/sklearn/linear_model/logistic.py:433: FutureWarning: Default solver will be changed to 'lbfgs' in 0.22. Specify a solver to silence this warning.\n",
      "  FutureWarning)\n"
     ]
    },
    {
     "data": {
      "image/png": "[encoded data removed]",
      "text/plain": [
       "<Figure size 432x288 with 1 Axes>"
      ]
     },
     "metadata": {},
     "output_type": "display_data"
    }
   ],
   "source": [
    "predictions, probabilities = ml(childhood_train, childhood_test)\n",
    "performance(predictions, [e[1] for e in childhood_test])\n",
    "roc_curve(probabilities, [e[1] for e in childhood_test])"
   ]
  },
  {
   "cell_type": "code",
   "execution_count": 23,
   "metadata": {},
   "outputs": [
    {
     "name": "stdout",
     "output_type": "stream",
     "text": [
      "Accuracy: 0.6666666666666666 \n",
      "Recall: 1.0 \n",
      "Note: Recall if we are interested in predicting inclusion of entries: 0.13043478260869565 \n",
      "Precision: 0.6491228070175439 \n",
      "Note: Precision if we are interested in predicting inclusion of entries: 1.0 \n",
      "Confusion Matrix: \n",
      " [[ 3 20]\n",
      " [ 0 37]]\n",
      "ROC AUC:\n",
      "0.8695652173913043\n"
     ]
    },
    {
     "name": "stderr",
     "output_type": "stream",
     "text": [
      "/home/damian/.local/lib/python3.6/site-packages/sklearn/linear_model/logistic.py:433: FutureWarning: Default solver will be changed to 'lbfgs' in 0.22. Specify a solver to silence this warning.\n",
      "  FutureWarning)\n"
     ]
    },
    {
     "data": {
      "image/png": "[encoded data removed]",
      "text/plain": [
       "<Figure size 432x288 with 1 Axes>"
      ]
     },
     "metadata": {},
     "output_type": "display_data"
    }
   ],
   "source": [
    "predictions, probabilities = ml(hpv_train, hpv_test)\n",
    "performance(predictions, [e[1] for e in hpv_test])\n",
    "roc_curve(probabilities, [e[1] for e in hpv_test])"
   ]
  },
  {
   "cell_type": "markdown",
   "metadata": {},
   "source": [
    "# oud of sample prediction"
   ]
  },
  {
   "cell_type": "code",
   "execution_count": 25,
   "metadata": {},
   "outputs": [
    {
     "name": "stdout",
     "output_type": "stream",
     "text": [
      "Accuracy: 0.75 \n",
      "Recall: 0.9459459459459459 \n",
      "Note: Recall if we are interested in predicting inclusion of entries: 0.43478260869565216 \n",
      "Precision: 0.7291666666666666 \n",
      "Note: Precision if we are interested in predicting inclusion of entries: 0.8333333333333334 \n",
      "Confusion Matrix: \n",
      " [[10 13]\n",
      " [ 2 35]]\n",
      "ROC AUC:\n",
      "0.8354876615746182\n"
     ]
    },
    {
     "name": "stderr",
     "output_type": "stream",
     "text": [
      "/home/damian/.local/lib/python3.6/site-packages/sklearn/linear_model/logistic.py:433: FutureWarning: Default solver will be changed to 'lbfgs' in 0.22. Specify a solver to silence this warning.\n",
      "  FutureWarning)\n"
     ]
    },
    {
     "data": {
      "image/png": "[encoded data removed]",
      "text/plain": [
       "<Figure size 432x288 with 1 Axes>"
      ]
     },
     "metadata": {},
     "output_type": "display_data"
    }
   ],
   "source": [
    "predictions, probabilities = ml(childhood_train, hpv_test)\n",
    "performance(predictions, [e[1] for e in hpv_test])\n",
    "roc_curve(probabilities, [e[1] for e in hpv_test])"
   ]
  },
  {
   "cell_type": "code",
   "execution_count": null,
   "metadata": {},
   "outputs": [],
   "source": []
  },
  {
   "cell_type": "markdown",
   "metadata": {},
   "source": [
    "# oude scratch"
   ]
  },
  {
   "cell_type": "code",
   "execution_count": null,
   "metadata": {},
   "outputs": [],
   "source": [
    "#Count_NB\n",
    "#train & show performance\n",
    "m1_nb = MultinomialNB()\n",
    "m1_nb.fit(train_features_count, train_scores)\n",
    "m1_predictions = m1_nb.predict(test_features_count)\n",
    "performance(m1_predictions)\n",
    "#%%\n",
    "#Save\n",
    "pk.dump(count_vectorizer,open('count_vectorizer.pkl',mode='wb'))\n",
    "joblib.dump(m1_nb,'nb_classifier_count.pkl')\n",
    "#%%\n",
    "#tf-idf_NB\n",
    "m2_nb = MultinomialNB()\n",
    "m2_nb.fit(train_features_tfidf, train_scores)\n",
    "m2_predictions = m2_nb.predict(test_features_tfidf)\n",
    "performance(m2_predictions)\n",
    "#%%\n",
    "pk.dump(tfidf_vectorizer,open('tfidf_vectorizer.pkl',mode='wb'))\n",
    "joblib.dump(m2_nb,'nb_classifier_tfidf.pkl')\n",
    "#%%\n",
    "#Count_LR\n",
    "m3_logreg = LogisticRegression()\n",
    "m3_logreg.fit(train_features_count, train_scores)\n",
    "m3_predictions = m3_logreg.predict(test_features_count)\n",
    "performance(m3_predictions)\n",
    "#%%\n",
    "joblib.dump(m3_logreg, 'logreg_classifier.pkl')\n",
    "#%%\n",
    "#tf-idf_LR\n",
    "m4_logreg = LogisticRegression()\n",
    "m4_logreg.fit(train_features_tfidf, train_scores)\n",
    "m4_predictions = m4_logreg.predict(test_features_tfidf)\n",
    "performance(m4_predictions)\n",
    "#%%\n",
    "joblib.dump(m4_logreg, 'logreg_classifier_tfidf.pkl')\n",
    "#%%\n",
    "#make ROCs\n",
    "m1_predict_probabilities = m1_nb.predict_proba(test_features_count)\n",
    "fpr, tpr, thresholds = metrics.roc_curve(actual_scores, m1_predict_probabilities[:,1],pos_label=1)\n",
    "roc_auc = metrics.auc(fpr, tpr)\n",
    "print(\"ROC AUC:\\n{}\".format(roc_auc))\n",
    "#%%\n",
    "m2_predict_probabilities = m2_nb.predict_proba(test_features_tfidf)\n",
    "fpr, tpr, thresholds = metrics.roc_curve(actual_scores, m2_predict_probabilities[:,1],pos_label=1)\n",
    "roc_auc = metrics.auc(fpr, tpr)\n",
    "print(\"ROC AUC:\\n{}\".format(roc_auc))\n",
    "#%%\n",
    "m3_predict_probabilities = m3_logreg.predict_proba(test_features_count)\n",
    "fpr, tpr, thresholds = metrics.roc_curve(actual_scores, m3_predict_probabilities[:,1],pos_label=1)\n",
    "roc_auc = metrics.auc(fpr, tpr)\n",
    "print(\"ROC AUC:\\n{}\".format(roc_auc))\n",
    "#%%"
   ]
  }
 ],
 "metadata": {
  "kernelspec": {
   "display_name": "Python 3",
   "language": "python",
   "name": "python3"
  },
  "language_info": {
   "codemirror_mode": {
    "name": "ipython",
    "version": 3
   },
   "file_extension": ".py",
   "mimetype": "text/x-python",
   "name": "python",
   "nbconvert_exporter": "python",
   "pygments_lexer": "ipython3",
   "version": "3.6.7"
  }
 },
 "nbformat": 4,
 "nbformat_minor": 2
}
